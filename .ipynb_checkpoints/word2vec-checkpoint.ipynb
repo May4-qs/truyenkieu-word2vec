{
 "cells": [
  {
   "cell_type": "code",
   "execution_count": 215,
   "metadata": {
    "collapsed": false,
    "nbpresent": {
     "id": "fa3a37ce-afd3-4fe7-b033-02e64eadc045"
    }
   },
   "outputs": [],
   "source": [
    "# -*- coding: utf-8 -*-\n",
    "\n",
    "import pandas as pd\n",
    "import re\n",
    "from nltk import ngrams\n",
    "from gensim.models import Word2Vec\n",
    "\n",
    "import sys\n",
    "reload(sys)\n",
    "sys.setdefaultencoding(\"utf-8\")\n",
    "\n",
    "pd.options.display.max_rows = 9999"
   ]
  },
  {
   "cell_type": "code",
   "execution_count": 205,
   "metadata": {
    "collapsed": false,
    "nbpresent": {
     "id": "2465b926-4005-44eb-8193-6bccc1b85e69"
    },
    "scrolled": true
   },
   "outputs": [
    {
     "data": {
      "text/html": [
       "<div>\n",
       "<table border=\"1\" class=\"dataframe\">\n",
       "  <thead>\n",
       "    <tr style=\"text-align: right;\">\n",
       "      <th></th>\n",
       "      <th>row</th>\n",
       "    </tr>\n",
       "  </thead>\n",
       "  <tbody>\n",
       "    <tr>\n",
       "      <th>0</th>\n",
       "      <td>1..Trăm năm trong cõi người ta,</td>\n",
       "    </tr>\n",
       "    <tr>\n",
       "      <th>1</th>\n",
       "      <td>2..Chữ tài chữ mệnh khéo là ghét nhau.</td>\n",
       "    </tr>\n",
       "    <tr>\n",
       "      <th>2</th>\n",
       "      <td>3..Trải qua một cuộc bể dâu,</td>\n",
       "    </tr>\n",
       "    <tr>\n",
       "      <th>3</th>\n",
       "      <td>4..Những điều trông thấy mà đau đớn lòng.</td>\n",
       "    </tr>\n",
       "    <tr>\n",
       "      <th>4</th>\n",
       "      <td>5.. Lạ gì bỉ sắc tư phong,</td>\n",
       "    </tr>\n",
       "    <tr>\n",
       "      <th>5</th>\n",
       "      <td>6..Trời xanh quen thói má hồng đánh ghen.</td>\n",
       "    </tr>\n",
       "    <tr>\n",
       "      <th>6</th>\n",
       "      <td>7..Cảo thơm lần giở trước đèn,</td>\n",
       "    </tr>\n",
       "    <tr>\n",
       "      <th>7</th>\n",
       "      <td>8..Phong tình có lục còn truyền sử xanh.</td>\n",
       "    </tr>\n",
       "    <tr>\n",
       "      <th>8</th>\n",
       "      <td>9,,Rằng năm Gia Tĩnh triều Minh,</td>\n",
       "    </tr>\n",
       "    <tr>\n",
       "      <th>9</th>\n",
       "      <td>10.. Bốn phương phẳng lặng, hai kinh vững vàng.</td>\n",
       "    </tr>\n",
       "  </tbody>\n",
       "</table>\n",
       "</div>"
      ],
      "text/plain": [
       "                                               row\n",
       "0                  1..Trăm năm trong cõi người ta,\n",
       "1           2..Chữ tài chữ mệnh khéo là ghét nhau.\n",
       "2                     3..Trải qua một cuộc bể dâu,\n",
       "3        4..Những điều trông thấy mà đau đớn lòng.\n",
       "4                       5.. Lạ gì bỉ sắc tư phong,\n",
       "5        6..Trời xanh quen thói má hồng đánh ghen.\n",
       "6                   7..Cảo thơm lần giở trước đèn,\n",
       "7         8..Phong tình có lục còn truyền sử xanh.\n",
       "8                 9,,Rằng năm Gia Tĩnh triều Minh,\n",
       "9  10.. Bốn phương phẳng lặng, hai kinh vững vàng."
      ]
     },
     "execution_count": 205,
     "metadata": {},
     "output_type": "execute_result"
    }
   ],
   "source": [
    "df = pd.read_csv(\"./truyen_kieu_data.txt\",sep=\"/\", names=[\"row\"], encoding=\"utf8\").dropna()\n",
    "df.head(10)"
   ]
  },
  {
   "cell_type": "markdown",
   "metadata": {
    "nbpresent": {
     "id": "0603bbbf-5f14-4f98-8997-9cefb152a2ec"
    }
   },
   "source": [
    "# Xử lý từng dòng thơ"
   ]
  },
  {
   "cell_type": "code",
   "execution_count": 206,
   "metadata": {
    "collapsed": false,
    "nbpresent": {
     "id": "b26adf4a-5fa3-4724-817e-cba2af3b6665"
    }
   },
   "outputs": [
    {
     "data": {
      "text/html": [
       "<div>\n",
       "<table border=\"1\" class=\"dataframe\">\n",
       "  <thead>\n",
       "    <tr style=\"text-align: right;\">\n",
       "      <th></th>\n",
       "      <th>row</th>\n",
       "    </tr>\n",
       "  </thead>\n",
       "  <tbody>\n",
       "    <tr>\n",
       "      <th>0</th>\n",
       "      <td>Trăm năm trong cõi người ta</td>\n",
       "    </tr>\n",
       "    <tr>\n",
       "      <th>1</th>\n",
       "      <td>Chữ tài chữ mệnh khéo là ghét nhau</td>\n",
       "    </tr>\n",
       "    <tr>\n",
       "      <th>2</th>\n",
       "      <td>Trải qua một cuộc bể dâu</td>\n",
       "    </tr>\n",
       "    <tr>\n",
       "      <th>3</th>\n",
       "      <td>Những điều trông thấy mà đau đớn lòng</td>\n",
       "    </tr>\n",
       "    <tr>\n",
       "      <th>4</th>\n",
       "      <td>Lạ gì bỉ sắc tư phong</td>\n",
       "    </tr>\n",
       "    <tr>\n",
       "      <th>5</th>\n",
       "      <td>Trời xanh quen thói má hồng đánh ghen</td>\n",
       "    </tr>\n",
       "    <tr>\n",
       "      <th>6</th>\n",
       "      <td>Cảo thơm lần giở trước đèn</td>\n",
       "    </tr>\n",
       "    <tr>\n",
       "      <th>7</th>\n",
       "      <td>Phong tình có lục còn truyền sử xanh</td>\n",
       "    </tr>\n",
       "    <tr>\n",
       "      <th>8</th>\n",
       "      <td>Rằng năm Gia Tĩnh triều Minh</td>\n",
       "    </tr>\n",
       "    <tr>\n",
       "      <th>9</th>\n",
       "      <td>0   Bốn phương phẳng lặng  hai kinh vững vàng</td>\n",
       "    </tr>\n",
       "  </tbody>\n",
       "</table>\n",
       "</div>"
      ],
      "text/plain": [
       "                                             row\n",
       "0                    Trăm năm trong cõi người ta\n",
       "1             Chữ tài chữ mệnh khéo là ghét nhau\n",
       "2                       Trải qua một cuộc bể dâu\n",
       "3          Những điều trông thấy mà đau đớn lòng\n",
       "4                          Lạ gì bỉ sắc tư phong\n",
       "5          Trời xanh quen thói má hồng đánh ghen\n",
       "6                     Cảo thơm lần giở trước đèn\n",
       "7           Phong tình có lục còn truyền sử xanh\n",
       "8                   Rằng năm Gia Tĩnh triều Minh\n",
       "9  0   Bốn phương phẳng lặng  hai kinh vững vàng"
      ]
     },
     "execution_count": 206,
     "metadata": {},
     "output_type": "execute_result"
    }
   ],
   "source": [
    "def transform_row(row):\n",
    "    row = row.encode(\"utf-8\")\n",
    "    # Xóa số dòng ở đầu câu\n",
    "    row = re.sub(r\"^[0-9\\.]\", \"\", row)\n",
    "    \n",
    "    # Xóa dấu chấm, phẩy, hỏi ở cuối câu\n",
    "    row = re.sub(r\"[\\.,\\?]+$\", \"\", row)\n",
    "    \n",
    "    # Xóa tất cả dấu chấm, phẩy, chấm phẩy, chấm thang, ... trong câu\n",
    "    row = row.replace(\",\", \" \").replace(\".\", \" \") \\\n",
    "        .replace(\";\", \" \").replace(\"“\", \" \") \\\n",
    "        .replace(\":\", \" \").replace(\"”\", \" \") \\\n",
    "        .replace('\"', \" \").replace(\"'\", \" \") \\\n",
    "        .replace(\"!\", \" \").replace(\"?\", \" \")\n",
    "    \n",
    "    row = row.strip()\n",
    "    return row \n",
    "\n",
    "df[\"row\"] = df.row.apply(transform_row)\n",
    "df.head(10)"
   ]
  },
  {
   "cell_type": "code",
   "execution_count": 207,
   "metadata": {
    "collapsed": false,
    "nbpresent": {
     "id": "e63eee8d-b089-4429-a9f0-659dc3707bce"
    }
   },
   "outputs": [],
   "source": [
    "%%timeit\n",
    "def kieu_ngram(string, n=1):\n",
    "    gram_str = list(ngrams(string.split(), n))\n",
    "    return [ \" \".join(gram).lower() for gram in gram_str ]\n",
    "\n",
    "df[\"1gram\"] = df.row.apply(lambda t: kieu_ngram(t, 1))\n",
    "df[\"2gram\"] = df.row.apply(lambda t: kieu_ngram(t, 2))\n"
   ]
  },
  {
   "cell_type": "code",
   "execution_count": 208,
   "metadata": {
    "collapsed": false,
    "nbpresent": {
     "id": "7de9764d-0e93-4a16-85a1-46789cf95fd6"
    }
   },
   "outputs": [
    {
     "data": {
      "text/html": [
       "<div>\n",
       "<table border=\"1\" class=\"dataframe\">\n",
       "  <thead>\n",
       "    <tr style=\"text-align: right;\">\n",
       "      <th></th>\n",
       "      <th>row</th>\n",
       "      <th>1gram</th>\n",
       "      <th>2gram</th>\n",
       "    </tr>\n",
       "  </thead>\n",
       "  <tbody>\n",
       "    <tr>\n",
       "      <th>0</th>\n",
       "      <td>Trăm năm trong cõi người ta</td>\n",
       "      <td>[trăm, năm, trong, cõi, người, ta]</td>\n",
       "      <td>[trăm năm, năm trong, trong cõi, cõi người, ng...</td>\n",
       "    </tr>\n",
       "    <tr>\n",
       "      <th>1</th>\n",
       "      <td>Chữ tài chữ mệnh khéo là ghét nhau</td>\n",
       "      <td>[chữ, tài, chữ, mệnh, khéo, là, ghét, nhau]</td>\n",
       "      <td>[chữ tài, tài chữ, chữ mệnh, mệnh khéo, khéo l...</td>\n",
       "    </tr>\n",
       "    <tr>\n",
       "      <th>2</th>\n",
       "      <td>Trải qua một cuộc bể dâu</td>\n",
       "      <td>[trải, qua, một, cuộc, bể, dâu]</td>\n",
       "      <td>[trải qua, qua một, một cuộc, cuộc bể, bể dâu]</td>\n",
       "    </tr>\n",
       "    <tr>\n",
       "      <th>3</th>\n",
       "      <td>Những điều trông thấy mà đau đớn lòng</td>\n",
       "      <td>[những, điều, trông, thấy, mà, đau, đớn, lòng]</td>\n",
       "      <td>[những điều, điều trông, trông thấy, thấy mà, ...</td>\n",
       "    </tr>\n",
       "    <tr>\n",
       "      <th>4</th>\n",
       "      <td>Lạ gì bỉ sắc tư phong</td>\n",
       "      <td>[lạ, gì, bỉ, sắc, tư, phong]</td>\n",
       "      <td>[lạ gì, gì bỉ, bỉ sắc, sắc tư, tư phong]</td>\n",
       "    </tr>\n",
       "    <tr>\n",
       "      <th>5</th>\n",
       "      <td>Trời xanh quen thói má hồng đánh ghen</td>\n",
       "      <td>[trời, xanh, quen, thói, má, hồng, đánh, ghen]</td>\n",
       "      <td>[trời xanh, xanh quen, quen thói, thói má, má ...</td>\n",
       "    </tr>\n",
       "    <tr>\n",
       "      <th>6</th>\n",
       "      <td>Cảo thơm lần giở trước đèn</td>\n",
       "      <td>[cảo, thơm, lần, giở, trước, đèn]</td>\n",
       "      <td>[cảo thơm, thơm lần, lần giở, giở trước, trước...</td>\n",
       "    </tr>\n",
       "    <tr>\n",
       "      <th>7</th>\n",
       "      <td>Phong tình có lục còn truyền sử xanh</td>\n",
       "      <td>[phong, tình, có, lục, còn, truyền, sử, xanh]</td>\n",
       "      <td>[phong tình, tình có, có lục, lục còn, còn tru...</td>\n",
       "    </tr>\n",
       "    <tr>\n",
       "      <th>8</th>\n",
       "      <td>Rằng năm Gia Tĩnh triều Minh</td>\n",
       "      <td>[rằng, năm, gia, tĩnh, triều, minh]</td>\n",
       "      <td>[rằng năm, năm gia, gia tĩnh, tĩnh triều, triề...</td>\n",
       "    </tr>\n",
       "    <tr>\n",
       "      <th>9</th>\n",
       "      <td>0   Bốn phương phẳng lặng  hai kinh vững vàng</td>\n",
       "      <td>[0, bốn, phương, phẳng, lặng, hai, kinh, vững,...</td>\n",
       "      <td>[0 bốn, bốn phương, phương phẳng, phẳng lặng, ...</td>\n",
       "    </tr>\n",
       "  </tbody>\n",
       "</table>\n",
       "</div>"
      ],
      "text/plain": [
       "                                             row  \\\n",
       "0                    Trăm năm trong cõi người ta   \n",
       "1             Chữ tài chữ mệnh khéo là ghét nhau   \n",
       "2                       Trải qua một cuộc bể dâu   \n",
       "3          Những điều trông thấy mà đau đớn lòng   \n",
       "4                          Lạ gì bỉ sắc tư phong   \n",
       "5          Trời xanh quen thói má hồng đánh ghen   \n",
       "6                     Cảo thơm lần giở trước đèn   \n",
       "7           Phong tình có lục còn truyền sử xanh   \n",
       "8                   Rằng năm Gia Tĩnh triều Minh   \n",
       "9  0   Bốn phương phẳng lặng  hai kinh vững vàng   \n",
       "\n",
       "                                               1gram  \\\n",
       "0                 [trăm, năm, trong, cõi, người, ta]   \n",
       "1        [chữ, tài, chữ, mệnh, khéo, là, ghét, nhau]   \n",
       "2                    [trải, qua, một, cuộc, bể, dâu]   \n",
       "3     [những, điều, trông, thấy, mà, đau, đớn, lòng]   \n",
       "4                       [lạ, gì, bỉ, sắc, tư, phong]   \n",
       "5     [trời, xanh, quen, thói, má, hồng, đánh, ghen]   \n",
       "6                  [cảo, thơm, lần, giở, trước, đèn]   \n",
       "7      [phong, tình, có, lục, còn, truyền, sử, xanh]   \n",
       "8                [rằng, năm, gia, tĩnh, triều, minh]   \n",
       "9  [0, bốn, phương, phẳng, lặng, hai, kinh, vững,...   \n",
       "\n",
       "                                               2gram  \n",
       "0  [trăm năm, năm trong, trong cõi, cõi người, ng...  \n",
       "1  [chữ tài, tài chữ, chữ mệnh, mệnh khéo, khéo l...  \n",
       "2     [trải qua, qua một, một cuộc, cuộc bể, bể dâu]  \n",
       "3  [những điều, điều trông, trông thấy, thấy mà, ...  \n",
       "4           [lạ gì, gì bỉ, bỉ sắc, sắc tư, tư phong]  \n",
       "5  [trời xanh, xanh quen, quen thói, thói má, má ...  \n",
       "6  [cảo thơm, thơm lần, lần giở, giở trước, trước...  \n",
       "7  [phong tình, tình có, có lục, lục còn, còn tru...  \n",
       "8  [rằng năm, năm gia, gia tĩnh, tĩnh triều, triề...  \n",
       "9  [0 bốn, bốn phương, phương phẳng, phẳng lặng, ...  "
      ]
     },
     "execution_count": 208,
     "metadata": {},
     "output_type": "execute_result"
    }
   ],
   "source": [
    "df.head(10)"
   ]
  },
  {
   "cell_type": "code",
   "execution_count": 209,
   "metadata": {
    "collapsed": false,
    "nbpresent": {
     "id": "07763ea6-a646-4603-bca7-55ed468a312a"
    }
   },
   "outputs": [
    {
     "data": {
      "text/html": [
       "<div>\n",
       "<table border=\"1\" class=\"dataframe\">\n",
       "  <thead>\n",
       "    <tr style=\"text-align: right;\">\n",
       "      <th></th>\n",
       "      <th>row</th>\n",
       "      <th>1gram</th>\n",
       "      <th>2gram</th>\n",
       "      <th>context</th>\n",
       "    </tr>\n",
       "  </thead>\n",
       "  <tbody>\n",
       "    <tr>\n",
       "      <th>0</th>\n",
       "      <td>Trăm năm trong cõi người ta</td>\n",
       "      <td>[trăm, năm, trong, cõi, người, ta]</td>\n",
       "      <td>[trăm năm, năm trong, trong cõi, cõi người, ng...</td>\n",
       "      <td>[trăm, năm, trong, cõi, người, ta, trăm năm, n...</td>\n",
       "    </tr>\n",
       "    <tr>\n",
       "      <th>1</th>\n",
       "      <td>Chữ tài chữ mệnh khéo là ghét nhau</td>\n",
       "      <td>[chữ, tài, chữ, mệnh, khéo, là, ghét, nhau]</td>\n",
       "      <td>[chữ tài, tài chữ, chữ mệnh, mệnh khéo, khéo l...</td>\n",
       "      <td>[chữ, tài, chữ, mệnh, khéo, là, ghét, nhau, ch...</td>\n",
       "    </tr>\n",
       "    <tr>\n",
       "      <th>2</th>\n",
       "      <td>Trải qua một cuộc bể dâu</td>\n",
       "      <td>[trải, qua, một, cuộc, bể, dâu]</td>\n",
       "      <td>[trải qua, qua một, một cuộc, cuộc bể, bể dâu]</td>\n",
       "      <td>[trải, qua, một, cuộc, bể, dâu, trải qua, qua ...</td>\n",
       "    </tr>\n",
       "    <tr>\n",
       "      <th>3</th>\n",
       "      <td>Những điều trông thấy mà đau đớn lòng</td>\n",
       "      <td>[những, điều, trông, thấy, mà, đau, đớn, lòng]</td>\n",
       "      <td>[những điều, điều trông, trông thấy, thấy mà, ...</td>\n",
       "      <td>[những, điều, trông, thấy, mà, đau, đớn, lòng,...</td>\n",
       "    </tr>\n",
       "    <tr>\n",
       "      <th>4</th>\n",
       "      <td>Lạ gì bỉ sắc tư phong</td>\n",
       "      <td>[lạ, gì, bỉ, sắc, tư, phong]</td>\n",
       "      <td>[lạ gì, gì bỉ, bỉ sắc, sắc tư, tư phong]</td>\n",
       "      <td>[lạ, gì, bỉ, sắc, tư, phong, lạ gì, gì bỉ, bỉ ...</td>\n",
       "    </tr>\n",
       "    <tr>\n",
       "      <th>5</th>\n",
       "      <td>Trời xanh quen thói má hồng đánh ghen</td>\n",
       "      <td>[trời, xanh, quen, thói, má, hồng, đánh, ghen]</td>\n",
       "      <td>[trời xanh, xanh quen, quen thói, thói má, má ...</td>\n",
       "      <td>[trời, xanh, quen, thói, má, hồng, đánh, ghen,...</td>\n",
       "    </tr>\n",
       "    <tr>\n",
       "      <th>6</th>\n",
       "      <td>Cảo thơm lần giở trước đèn</td>\n",
       "      <td>[cảo, thơm, lần, giở, trước, đèn]</td>\n",
       "      <td>[cảo thơm, thơm lần, lần giở, giở trước, trước...</td>\n",
       "      <td>[cảo, thơm, lần, giở, trước, đèn, cảo thơm, th...</td>\n",
       "    </tr>\n",
       "    <tr>\n",
       "      <th>7</th>\n",
       "      <td>Phong tình có lục còn truyền sử xanh</td>\n",
       "      <td>[phong, tình, có, lục, còn, truyền, sử, xanh]</td>\n",
       "      <td>[phong tình, tình có, có lục, lục còn, còn tru...</td>\n",
       "      <td>[phong, tình, có, lục, còn, truyền, sử, xanh, ...</td>\n",
       "    </tr>\n",
       "    <tr>\n",
       "      <th>8</th>\n",
       "      <td>Rằng năm Gia Tĩnh triều Minh</td>\n",
       "      <td>[rằng, năm, gia, tĩnh, triều, minh]</td>\n",
       "      <td>[rằng năm, năm gia, gia tĩnh, tĩnh triều, triề...</td>\n",
       "      <td>[rằng, năm, gia, tĩnh, triều, minh, rằng năm, ...</td>\n",
       "    </tr>\n",
       "    <tr>\n",
       "      <th>9</th>\n",
       "      <td>0   Bốn phương phẳng lặng  hai kinh vững vàng</td>\n",
       "      <td>[0, bốn, phương, phẳng, lặng, hai, kinh, vững,...</td>\n",
       "      <td>[0 bốn, bốn phương, phương phẳng, phẳng lặng, ...</td>\n",
       "      <td>[0, bốn, phương, phẳng, lặng, hai, kinh, vững,...</td>\n",
       "    </tr>\n",
       "  </tbody>\n",
       "</table>\n",
       "</div>"
      ],
      "text/plain": [
       "                                             row  \\\n",
       "0                    Trăm năm trong cõi người ta   \n",
       "1             Chữ tài chữ mệnh khéo là ghét nhau   \n",
       "2                       Trải qua một cuộc bể dâu   \n",
       "3          Những điều trông thấy mà đau đớn lòng   \n",
       "4                          Lạ gì bỉ sắc tư phong   \n",
       "5          Trời xanh quen thói má hồng đánh ghen   \n",
       "6                     Cảo thơm lần giở trước đèn   \n",
       "7           Phong tình có lục còn truyền sử xanh   \n",
       "8                   Rằng năm Gia Tĩnh triều Minh   \n",
       "9  0   Bốn phương phẳng lặng  hai kinh vững vàng   \n",
       "\n",
       "                                               1gram  \\\n",
       "0                 [trăm, năm, trong, cõi, người, ta]   \n",
       "1        [chữ, tài, chữ, mệnh, khéo, là, ghét, nhau]   \n",
       "2                    [trải, qua, một, cuộc, bể, dâu]   \n",
       "3     [những, điều, trông, thấy, mà, đau, đớn, lòng]   \n",
       "4                       [lạ, gì, bỉ, sắc, tư, phong]   \n",
       "5     [trời, xanh, quen, thói, má, hồng, đánh, ghen]   \n",
       "6                  [cảo, thơm, lần, giở, trước, đèn]   \n",
       "7      [phong, tình, có, lục, còn, truyền, sử, xanh]   \n",
       "8                [rằng, năm, gia, tĩnh, triều, minh]   \n",
       "9  [0, bốn, phương, phẳng, lặng, hai, kinh, vững,...   \n",
       "\n",
       "                                               2gram  \\\n",
       "0  [trăm năm, năm trong, trong cõi, cõi người, ng...   \n",
       "1  [chữ tài, tài chữ, chữ mệnh, mệnh khéo, khéo l...   \n",
       "2     [trải qua, qua một, một cuộc, cuộc bể, bể dâu]   \n",
       "3  [những điều, điều trông, trông thấy, thấy mà, ...   \n",
       "4           [lạ gì, gì bỉ, bỉ sắc, sắc tư, tư phong]   \n",
       "5  [trời xanh, xanh quen, quen thói, thói má, má ...   \n",
       "6  [cảo thơm, thơm lần, lần giở, giở trước, trước...   \n",
       "7  [phong tình, tình có, có lục, lục còn, còn tru...   \n",
       "8  [rằng năm, năm gia, gia tĩnh, tĩnh triều, triề...   \n",
       "9  [0 bốn, bốn phương, phương phẳng, phẳng lặng, ...   \n",
       "\n",
       "                                             context  \n",
       "0  [trăm, năm, trong, cõi, người, ta, trăm năm, n...  \n",
       "1  [chữ, tài, chữ, mệnh, khéo, là, ghét, nhau, ch...  \n",
       "2  [trải, qua, một, cuộc, bể, dâu, trải qua, qua ...  \n",
       "3  [những, điều, trông, thấy, mà, đau, đớn, lòng,...  \n",
       "4  [lạ, gì, bỉ, sắc, tư, phong, lạ gì, gì bỉ, bỉ ...  \n",
       "5  [trời, xanh, quen, thói, má, hồng, đánh, ghen,...  \n",
       "6  [cảo, thơm, lần, giở, trước, đèn, cảo thơm, th...  \n",
       "7  [phong, tình, có, lục, còn, truyền, sử, xanh, ...  \n",
       "8  [rằng, năm, gia, tĩnh, triều, minh, rằng năm, ...  \n",
       "9  [0, bốn, phương, phẳng, lặng, hai, kinh, vững,...  "
      ]
     },
     "execution_count": 209,
     "metadata": {},
     "output_type": "execute_result"
    }
   ],
   "source": [
    "df[\"context\"] = df[\"1gram\"] + df[\"2gram\"]\n",
    "df.head(10)"
   ]
  },
  {
   "cell_type": "code",
   "execution_count": 210,
   "metadata": {
    "collapsed": false,
    "nbpresent": {
     "id": "fc195969-8c49-4f07-9dea-85a4f917c7a1"
    }
   },
   "outputs": [
    {
     "data": {
      "text/plain": [
       "3258"
      ]
     },
     "execution_count": 210,
     "metadata": {},
     "output_type": "execute_result"
    }
   ],
   "source": [
    "train_data = df.context.tolist()\n",
    "len(train_data)"
   ]
  },
  {
   "cell_type": "code",
   "execution_count": 225,
   "metadata": {
    "collapsed": true,
    "nbpresent": {
     "id": "15b269a1-9d30-4dd0-ae18-cfd894d95d79"
    }
   },
   "outputs": [],
   "source": [
    "logging.basicConfig(format='%(asctime)s : %(levelname)s : %(message)s', level=logging.INFO)    \n",
    "model = Word2Vec(train_data, size=100, window=5, min_count=3, workers=4, sg=1)"
   ]
  },
  {
   "cell_type": "code",
   "execution_count": 226,
   "metadata": {
    "collapsed": false,
    "nbpresent": {
     "id": "098c5c62-5404-4491-9ea9-068c46a44862"
    }
   },
   "outputs": [
    {
     "data": {
      "text/plain": [
       "{'t\\xe1\\xba\\xa1': <gensim.models.word2vec.Vocab at 0x7efb966521d0>,\n",
       " 'd\\xc3\\xa0nh': <gensim.models.word2vec.Vocab at 0x7efb971e2950>,\n",
       " 'l\\xe1\\xbb\\x9di s\\xe1\\xba\\xaft': <gensim.models.word2vec.Vocab at 0x7efb971c1f90>,\n",
       " 'nh\\xe1\\xbb\\x8f to': <gensim.models.word2vec.Vocab at 0x7efb96652210>,\n",
       " 't\\xe1\\xbb\\xab c\\xc3\\xb4ng': <gensim.models.word2vec.Vocab at 0x7efb971cc150>,\n",
       " 'y\\xe1\\xba\\xbfm': <gensim.models.word2vec.Vocab at 0x7efbb55e33d0>,\n",
       " 'y\\xe1\\xba\\xbfn': <gensim.models.word2vec.Vocab at 0x7efbb59d5fd0>,\n",
       " 't\\xe1\\xba\\xbb': <gensim.models.word2vec.Vocab at 0x7efb9720f750>,\n",
       " 't\\xc3\\xacnh cho': <gensim.models.word2vec.Vocab at 0x7efb97215b50>,\n",
       " 'ng\\xe1\\xbb\\x95n ngang': <gensim.models.word2vec.Vocab at 0x7efb9720f450>,\n",
       " 't\\xc3\\xacnh chi': <gensim.models.word2vec.Vocab at 0x7efb9720f490>,\n",
       " 'c\\xc3\\xbai': <gensim.models.word2vec.Vocab at 0x7efb9720f4d0>,\n",
       " '\\xc4\\x91o\\xe1\\xba\\xa1n tr\\xc6\\xb0\\xe1\\xbb\\x9dng': <gensim.models.word2vec.Vocab at 0x7efb971ed750>,\n",
       " 'g\\xe1\\xba\\xa1t': <gensim.models.word2vec.Vocab at 0x7efb9720f510>,\n",
       " 'm\\xe1\\xbb\\x9bi r\\xe1\\xbb\\x89': <gensim.models.word2vec.Vocab at 0x7efb96651f10>,\n",
       " 'm\\xc3\\xa1 \\xc4\\x91\\xc3\\xa0o': <gensim.models.word2vec.Vocab at 0x7efbb59d5110>,\n",
       " 'ch\\xe1\\xbb\\xa3t': <gensim.models.word2vec.Vocab at 0x7efb971c1fd0>,\n",
       " 'g\\xe1\\xba\\xa1n': <gensim.models.word2vec.Vocab at 0x7efb9720f590>,\n",
       " 'tuy\\xe1\\xbb\\x87t': <gensim.models.word2vec.Vocab at 0x7efb971c6050>,\n",
       " 'h\\xc6\\xa1n': <gensim.models.word2vec.Vocab at 0x7efb96652310>,\n",
       " 'h\\xc6\\xa1i': <gensim.models.word2vec.Vocab at 0x7efb96652350>,\n",
       " 'ch\\xe1\\xbb\\xaf t\\xc3\\xb2ng': <gensim.models.word2vec.Vocab at 0x7efb96652390>,\n",
       " 'm\\xe1\\xbb\\x9di': <gensim.models.word2vec.Vocab at 0x7efbb5951b90>,\n",
       " 'duy\\xc3\\xaan nghe': <gensim.models.word2vec.Vocab at 0x7efb9c0b6cd0>,\n",
       " 'thi\\xc3\\xaan': <gensim.models.word2vec.Vocab at 0x7efbb59d56d0>,\n",
       " 'gi\\xc3\\xa3': <gensim.models.word2vec.Vocab at 0x7efb965d8fd0>,\n",
       " 'm\\xe1\\xbb\\x99t n\\xc4\\x83m': <gensim.models.word2vec.Vocab at 0x7efb971dc210>,\n",
       " '\\xc4\\x91\\xc6\\xb0\\xe1\\xbb\\x9dng': <gensim.models.word2vec.Vocab at 0x7efbb59d5710>,\n",
       " 'l\\xe1\\xba\\xa1 d\\xc6\\xb0\\xe1\\xbb\\x9dng': <gensim.models.word2vec.Vocab at 0x7efb96652410>,\n",
       " 'd\\xc3\\xa3i': <gensim.models.word2vec.Vocab at 0x7efbbf34f790>,\n",
       " 't\\xe1\\xba\\xa7m': <gensim.models.word2vec.Vocab at 0x7efb971c6090>,\n",
       " 't\\xe1\\xba\\xa7n': <gensim.models.word2vec.Vocab at 0x7efb971c60d0>,\n",
       " 'ph\\xc3\\xadm': <gensim.models.word2vec.Vocab at 0x7efb96652450>,\n",
       " 'ki\\xe1\\xba\\xbfm': <gensim.models.word2vec.Vocab at 0x7efb9720f610>,\n",
       " 'l\\xe1\\xba\\xb7ng nghe': <gensim.models.word2vec.Vocab at 0x7efb96652490>,\n",
       " 'ki\\xe1\\xba\\xbfp': <gensim.models.word2vec.Vocab at 0x7efb9720f650>,\n",
       " 'c\\xc5\\xa9ng t\\xe1\\xba\\xa1i': <gensim.models.word2vec.Vocab at 0x7efb971c6110>,\n",
       " 'k\\xe1\\xba\\xbbo': <gensim.models.word2vec.Vocab at 0x7efb966524d0>,\n",
       " 'ngh\\xc3\\xacn': <gensim.models.word2vec.Vocab at 0x7efbb59d5550>,\n",
       " 'ra th\\xe1\\xba\\xbf': <gensim.models.word2vec.Vocab at 0x7efb9720f690>,\n",
       " 't\\xc3\\xacm hoa': <gensim.models.word2vec.Vocab at 0x7efbb59d55d0>,\n",
       " 'chi nh\\xe1\\xbb\\xafng': <gensim.models.word2vec.Vocab at 0x7efb9663ded0>,\n",
       " 'v\\xc3\\xb9ng': <gensim.models.word2vec.Vocab at 0x7efb9720f6d0>,\n",
       " 'c\\xc3\\xa0ng th\\xc3\\xaam': <gensim.models.word2vec.Vocab at 0x7efb9720f710>,\n",
       " 'v\\xe1\\xbb\\x99i': <gensim.models.word2vec.Vocab at 0x7efb971ed7d0>,\n",
       " 'l\\xc3\\xa2m tri': <gensim.models.word2vec.Vocab at 0x7efb96652510>,\n",
       " 'c\\xc3\\xa0ng cao': <gensim.models.word2vec.Vocab at 0x7efb9720f790>,\n",
       " 'chen': <gensim.models.word2vec.Vocab at 0x7efb96652550>,\n",
       " 'l\\xc3\\xa0 \\xc4\\x91\\xc3\\xa2y': <gensim.models.word2vec.Vocab at 0x7efbb5533e90>,\n",
       " 'b\\xc6\\xb0\\xe1\\xbb\\x9bm': <gensim.models.word2vec.Vocab at 0x7efb971c61d0>,\n",
       " 'v\\xe1\\xbb\\x9bi nhau': <gensim.models.word2vec.Vocab at 0x7efb971c6210>,\n",
       " 'c\\xc3\\xb2n ch\\xc3\\xbat': <gensim.models.word2vec.Vocab at 0x7efb97230c50>,\n",
       " '\\xc4\\x91\\xc3\\xa3 n\\xc3\\xaan': <gensim.models.word2vec.Vocab at 0x7efb971c6290>,\n",
       " 'm\\xc3\\xa0 l\\xe1\\xba\\xa1i': <gensim.models.word2vec.Vocab at 0x7efb971f4e50>,\n",
       " 'th\\xc3\\xac': <gensim.models.word2vec.Vocab at 0x7efb97215e90>,\n",
       " 'khuy\\xe1\\xba\\xbft': <gensim.models.word2vec.Vocab at 0x7efbb59d5410>,\n",
       " 'h\\xe1\\xbb\\x93ng nhan': <gensim.models.word2vec.Vocab at 0x7efb966525d0>,\n",
       " 'r\\xc3\\xaau': <gensim.models.word2vec.Vocab at 0x7efb9720f810>,\n",
       " 'ch\\xc3\\xa9n': <gensim.models.word2vec.Vocab at 0x7efb971c6350>,\n",
       " 'd\\xc6\\xb0\\xe1\\xbb\\x9bi': <gensim.models.word2vec.Vocab at 0x7efb9720f850>,\n",
       " 'phong tr\\xe1\\xba\\xa7n': <gensim.models.word2vec.Vocab at 0x7efb96652610>,\n",
       " 'c\\xc3\\xb3 m\\xe1\\xbb\\x99t': <gensim.models.word2vec.Vocab at 0x7efb971c6390>,\n",
       " 'ch\\xe1\\xbb\\xb1c': <gensim.models.word2vec.Vocab at 0x7efb9720f890>,\n",
       " 'g\\xe1\\xba\\xb7p': <gensim.models.word2vec.Vocab at 0x7efb96652650>,\n",
       " 'ch\\xc3\\xa0ng kim': <gensim.models.word2vec.Vocab at 0x7efb96652690>,\n",
       " '105': <gensim.models.word2vec.Vocab at 0x7efb9720f910>,\n",
       " 't\\xc6\\xa1i': <gensim.models.word2vec.Vocab at 0x7efbb59d5450>,\n",
       " 'n\\xc4\\x83m n\\xc4\\x83m': <gensim.models.word2vec.Vocab at 0x7efbb59d5ad0>,\n",
       " 'hoa n\\xc3\\xb4': <gensim.models.word2vec.Vocab at 0x7efb971c63d0>,\n",
       " '\\xc4\\x91en': <gensim.models.word2vec.Vocab at 0x7efbb59d5b10>,\n",
       " '\\xc4\\x91eo': <gensim.models.word2vec.Vocab at 0x7efbb59d5b90>,\n",
       " '\\xc4\\x91em': <gensim.models.word2vec.Vocab at 0x7efbb59d5150>,\n",
       " 'v\\xc3\\xa3': <gensim.models.word2vec.Vocab at 0x7efb966526d0>,\n",
       " 'v\\xc3\\xac': <gensim.models.word2vec.Vocab at 0x7efb96652710>,\n",
       " 'v\\xc3\\xad': <gensim.models.word2vec.Vocab at 0x7efb96652750>,\n",
       " 't\\xc3\\xaan': <gensim.models.word2vec.Vocab at 0x7efbbc11aed0>,\n",
       " 'v\\xc3\\xb2': <gensim.models.word2vec.Vocab at 0x7efb96652790>,\n",
       " 'v\\xc3\\xb3': <gensim.models.word2vec.Vocab at 0x7efb966527d0>,\n",
       " 'v\\xc3\\xb4': <gensim.models.word2vec.Vocab at 0x7efb96652810>,\n",
       " '055': <gensim.models.word2vec.Vocab at 0x7efbbc11acd0>,\n",
       " 'ng\\xe1\\xbb\\xabng': <gensim.models.word2vec.Vocab at 0x7efbbc11a410>,\n",
       " '050': <gensim.models.word2vec.Vocab at 0x7efbbc11a190>,\n",
       " 'n\\xc3\\xa2u s\\xe1\\xbb\\x93ng': <gensim.models.word2vec.Vocab at 0x7efb96652850>,\n",
       " 'th\\xc3\\xb4i th\\xe1\\xba\\xbf': <gensim.models.word2vec.Vocab at 0x7efb9720fa10>,\n",
       " 'm\\xe1\\xba\\xa5t': <gensim.models.word2vec.Vocab at 0x7efb971cc890>,\n",
       " 'ai c\\xc3\\xb3': <gensim.models.word2vec.Vocab at 0x7efb96652890>,\n",
       " 'm\\xc3\\xa0 th\\xc3\\xb4i': <gensim.models.word2vec.Vocab at 0x7efb9c0dced0>,\n",
       " 'm\\xe1\\xbb\\x99t \\xc4\\x91\\xe1\\xbb\\x9di': <gensim.models.word2vec.Vocab at 0x7efb971c6450>,\n",
       " '\\xc4\\x90\\xc3\\xa1nh li\\xe1\\xbb\\x81u': <gensim.models.word2vec.Vocab at 0x7efbbc11a110>,\n",
       " 'xu\\xe1\\xbb\\x91ng': <gensim.models.word2vec.Vocab at 0x7efb966528d0>,\n",
       " '\\xc4\\x91\\xe1\\xba\\xbfn n\\xe1\\xbb\\x97i': <gensim.models.word2vec.Vocab at 0x7efbbc11a1d0>,\n",
       " 'ph\\xe1\\xba\\xadn': <gensim.models.word2vec.Vocab at 0x7efb96652910>,\n",
       " 'v\\xe1\\xba\\xb7n': <gensim.models.word2vec.Vocab at 0x7efb96650490>,\n",
       " 'x\\xc6\\xb0a': <gensim.models.word2vec.Vocab at 0x7efb971c64d0>,\n",
       " 'm\\xe1\\xbb\\x99t b\\xc3\\xaan': <gensim.models.word2vec.Vocab at 0x7efb97230d10>,\n",
       " 'ni\\xe1\\xbb\\x81m': <gensim.models.word2vec.Vocab at 0x7efb9721acd0>,\n",
       " 'ph\\xe1\\xba\\xadt': <gensim.models.word2vec.Vocab at 0x7efb96652950>,\n",
       " '90': <gensim.models.word2vec.Vocab at 0x7efbbc11a5d0>,\n",
       " '95': <gensim.models.word2vec.Vocab at 0x7efb96629390>,\n",
       " 'qu\\xc3\\xa2n t\\xe1\\xbb\\xad': <gensim.models.word2vec.Vocab at 0x7efb971c6550>,\n",
       " 'c\\xc3\\xb2n d\\xc3\\xa0i': <gensim.models.word2vec.Vocab at 0x7efb96652990>,\n",
       " 'ng\\xc6\\xb0\\xe1\\xbb\\x9di \\xc4\\x91\\xc3\\xa2u': <gensim.models.word2vec.Vocab at 0x7efb9c0701d0>,\n",
       " 'nh\\xc3\\xa0 huy\\xc3\\xaan': <gensim.models.word2vec.Vocab at 0x7efb966529d0>,\n",
       " 'qu\\xe1\\xba\\xa3': <gensim.models.word2vec.Vocab at 0x7efb97220050>,\n",
       " 'c\\xc5\\xa9ng li\\xe1\\xbb\\x81u': <gensim.models.word2vec.Vocab at 0x7efbb500aed0>,\n",
       " 'bi\\xe1\\xba\\xbft l\\xc3\\xa0': <gensim.models.word2vec.Vocab at 0x7efb971c6790>,\n",
       " 'ho\\xc3\\xa0i': <gensim.models.word2vec.Vocab at 0x7efb971c65d0>,\n",
       " '\\xc4\\x90\\xc3\\xa3 \\xc4\\x91\\xc3\\xa0nh': <gensim.models.word2vec.Vocab at 0x7efb9720fa90>,\n",
       " 'n\\xe1\\xba\\xafng': <gensim.models.word2vec.Vocab at 0x7efb96652a10>,\n",
       " 'ph\\xc3\\xbat': <gensim.models.word2vec.Vocab at 0x7efb971d1590>,\n",
       " 'th\\xc3\\xa2n ph\\xe1\\xba\\xadn': <gensim.models.word2vec.Vocab at 0x7efb9720fad0>,\n",
       " 'hi\\xc3\\xaan': <gensim.models.word2vec.Vocab at 0x7efbb65a7310>,\n",
       " 'c\\xc3\\xb9ng ch\\xc3\\xa0ng': <gensim.models.word2vec.Vocab at 0x7efb971c6650>,\n",
       " 'n\\xe1\\xba\\xb7ng': <gensim.models.word2vec.Vocab at 0x7efb96652a50>,\n",
       " 'ph\\xc3\\xbac': <gensim.models.word2vec.Vocab at 0x7efbb563d510>,\n",
       " 'ch\\xc6\\xb0a xong': <gensim.models.word2vec.Vocab at 0x7efb971c6690>,\n",
       " 'hoa': <gensim.models.word2vec.Vocab at 0x7efb9c0b64d0>,\n",
       " 'song': <gensim.models.word2vec.Vocab at 0x7efb971dc2d0>,\n",
       " 'd\\xc6\\xb0ng': <gensim.models.word2vec.Vocab at 0x7efb9c0abc90>,\n",
       " 'c\\xc3\\xa0ng \\xc4\\x91au': <gensim.models.word2vec.Vocab at 0x7efb971c66d0>,\n",
       " 'm\\xe1\\xbb\\x9bi bi\\xe1\\xba\\xbft': <gensim.models.word2vec.Vocab at 0x7efb96652ad0>,\n",
       " 'd\\xe1\\xba\\xb1ng': <gensim.models.word2vec.Vocab at 0x7efb971c6710>,\n",
       " 'bi\\xe1\\xba\\xbft r\\xe1\\xba\\xb1ng': <gensim.models.word2vec.Vocab at 0x7efb9722b450>,\n",
       " 'n\\xc6\\xb0\\xe1\\xbb\\x9bc': <gensim.models.word2vec.Vocab at 0x7efbb5c0d290>,\n",
       " 'h\\xe1\\xbb\\x8fi m\\xe1\\xbb\\x99t': <gensim.models.word2vec.Vocab at 0x7efbb5c0db10>,\n",
       " 'lam': <gensim.models.word2vec.Vocab at 0x7efb97220850>,\n",
       " 'lan': <gensim.models.word2vec.Vocab at 0x7efb96652b50>,\n",
       " 'lao': <gensim.models.word2vec.Vocab at 0x7efb96652b90>,\n",
       " 'lai': <gensim.models.word2vec.Vocab at 0x7efb96652bd0>,\n",
       " 'ch\\xc3\\xa2n m\\xc3\\xa2y': <gensim.models.word2vec.Vocab at 0x7efb97230dd0>,\n",
       " '\\xc4\\x91o\\xc3\\xa0n': <gensim.models.word2vec.Vocab at 0x7efb9720fb10>,\n",
       " '\\xc4\\x91o\\xc3\\xa0i': <gensim.models.word2vec.Vocab at 0x7efb9720fb50>,\n",
       " 'thi\\xe1\\xbb\\x87t \\xc4\\x91\\xe1\\xbb\\x9di': <gensim.models.word2vec.Vocab at 0x7efb965d8710>,\n",
       " 'th\\xe1\\xbb\\x81 th\\xe1\\xbb\\x91t': <gensim.models.word2vec.Vocab at 0x7efb9720fb90>,\n",
       " 'g\\xe1\\xba\\xa5m': <gensim.models.word2vec.Vocab at 0x7efb97220250>,\n",
       " 'd\\xe1\\xba\\xa1i': <gensim.models.word2vec.Vocab at 0x7efb96652a90>,\n",
       " 't\\xc3\\xb4i': <gensim.models.word2vec.Vocab at 0x7efb971c67d0>,\n",
       " 'lau': <gensim.models.word2vec.Vocab at 0x7efb96652c10>,\n",
       " 'b\\xc3\\xa2y': <gensim.models.word2vec.Vocab at 0x7efb9720fbd0>,\n",
       " 'n\\xe1\\xbb\\x81n': <gensim.models.word2vec.Vocab at 0x7efb9c0ae710>,\n",
       " 't\\xe1\\xbb\\xabng': <gensim.models.word2vec.Vocab at 0x7efb971c6810>,\n",
       " '\\xc4\\x90\\xe1\\xbb\\x83': <gensim.models.word2vec.Vocab at 0x7efb96652c50>,\n",
       " 'nh\\xe1\\xba\\xa1n': <gensim.models.word2vec.Vocab at 0x7efb96652c90>,\n",
       " 'ph\\xe1\\xba\\xa3i': <gensim.models.word2vec.Vocab at 0x7efb9c0aef10>,\n",
       " 'n\\xe1\\xba\\xbbo': <gensim.models.word2vec.Vocab at 0x7efbb54f21d0>,\n",
       " 't\\xc6\\xb0\\xe1\\xbb\\x9bi': <gensim.models.word2vec.Vocab at 0x7efb96652cd0>,\n",
       " 'b\\xe1\\xbb\\x91n c\\xc3\\xa2u': <gensim.models.word2vec.Vocab at 0x7efb9720fc50>,\n",
       " 'l\\xe1\\xbb\\xb1a': <gensim.models.word2vec.Vocab at 0x7efb96652d10>,\n",
       " 'g\\xe1\\xbb\\xadi': <gensim.models.word2vec.Vocab at 0x7efb971c6850>,\n",
       " 'nghe ti\\xe1\\xba\\xbfng': <gensim.models.word2vec.Vocab at 0x7efb97220f10>,\n",
       " 'n\\xc3\\xa0y m\\xc3\\xa0': <gensim.models.word2vec.Vocab at 0x7efb9720fc90>,\n",
       " 'thi\\xe1\\xba\\xbfu g\\xc3\\xac': <gensim.models.word2vec.Vocab at 0x7efb97225810>,\n",
       " '\\xc4\\x91\\xc3\\xa3 d\\xe1\\xbb\\x85': <gensim.models.word2vec.Vocab at 0x7efbb54f29d0>,\n",
       " 'duy\\xc3\\xaan': <gensim.models.word2vec.Vocab at 0x7efb96652d50>,\n",
       " 'h\\xc3\\xa0o': <gensim.models.word2vec.Vocab at 0x7efb9720fcd0>,\n",
       " 'h\\xc3\\xa0n': <gensim.models.word2vec.Vocab at 0x7efb9720fd10>,\n",
       " 'h\\xc3\\xa0m': <gensim.models.word2vec.Vocab at 0x7efb9720fd50>,\n",
       " 'nh\\xc6\\xb0 ai': <gensim.models.word2vec.Vocab at 0x7efb971c6890>,\n",
       " 'h\\xc3\\xa0i': <gensim.models.word2vec.Vocab at 0x7efb9720fd90>,\n",
       " '\\xc4\\x91\\xc6\\xb0a \\xc4\\x91\\xe1\\xba\\xbfn': <gensim.models.word2vec.Vocab at 0x7efb96650a10>,\n",
       " 'nh\\xc3\\xacn': <gensim.models.word2vec.Vocab at 0x7efb96620c90>,\n",
       " 'd\\xe1\\xbb\\x85 ai': <gensim.models.word2vec.Vocab at 0x7efb9c09ef50>,\n",
       " 'm\\xe1\\xbb\\x8di \\xc4\\x91\\xc6\\xb0\\xe1\\xbb\\x9dng': <gensim.models.word2vec.Vocab at 0x7efb96652d90>,\n",
       " 'gi\\xe1\\xba\\xadn': <gensim.models.word2vec.Vocab at 0x7efb971c6910>,\n",
       " 'd\\xc3\\xa2y': <gensim.models.word2vec.Vocab at 0x7efb9c09e890>,\n",
       " 'gi\\xe1\\xba\\xadt': <gensim.models.word2vec.Vocab at 0x7efb971c6950>,\n",
       " 'd\\xc3\\xa2u': <gensim.models.word2vec.Vocab at 0x7efb9c09e750>,\n",
       " 'theo': <gensim.models.word2vec.Vocab at 0x7efb972254d0>,\n",
       " 'bu\\xc3\\xb4ng': <gensim.models.word2vec.Vocab at 0x7efbb5a42e50>,\n",
       " 'ng\\xe1\\xba\\xa1i': <gensim.models.word2vec.Vocab at 0x7efb9720fdd0>,\n",
       " 'l\\xe1\\xbb\\x9di n\\xc3\\xa0ng': <gensim.models.word2vec.Vocab at 0x7efb97225610>,\n",
       " 'c\\xe1\\xbb\\xada c\\xc3\\xb4ng': <gensim.models.word2vec.Vocab at 0x7efb971bb5d0>,\n",
       " '9': <gensim.models.word2vec.Vocab at 0x7efb971e2b10>,\n",
       " '\\xc4\\x90o\\xe1\\xba\\xa1n tr\\xc6\\xb0\\xe1\\xbb\\x9dng': <gensim.models.word2vec.Vocab at 0x7efb9720fe10>,\n",
       " 'n\\xc3\\xb3i c\\xc3\\xa0ng': <gensim.models.word2vec.Vocab at 0x7efb971c6990>,\n",
       " 'kh\\xc4\\x83ng': <gensim.models.word2vec.Vocab at 0x7efb96652e50>,\n",
       " 'v\\xc6\\xb0\\xe1\\xbb\\xa3t': <gensim.models.word2vec.Vocab at 0x7efb9720ab90>,\n",
       " 'ng\\xc3\\xa2n': <gensim.models.word2vec.Vocab at 0x7efb96645f50>,\n",
       " 'ng\\xc3\\xa2m': <gensim.models.word2vec.Vocab at 0x7efbb5a42810>,\n",
       " 'gi\\xe1\\xbb\\x8dt ng\\xe1\\xbb\\x8dc': <gensim.models.word2vec.Vocab at 0x7efbb5746b90>,\n",
       " 'n\\xe1\\xbb\\xada ph\\xe1\\xba\\xa7n': <gensim.models.word2vec.Vocab at 0x7efb9720fe50>,\n",
       " 'ni\\xe1\\xbb\\x81m t\\xc3\\xa2y': <gensim.models.word2vec.Vocab at 0x7efb96652e90>,\n",
       " 'm\\xc3\\xacnh n\\xc3\\xa0ng': <gensim.models.word2vec.Vocab at 0x7efb96652ed0>,\n",
       " 'vi\\xe1\\xbb\\x87n s\\xc3\\xa1ch': <gensim.models.word2vec.Vocab at 0x7efbb5746750>,\n",
       " 'ng\\xc3\\xa2y': <gensim.models.word2vec.Vocab at 0x7efbb53f23d0>,\n",
       " 'b\\xe1\\xbb\\x97ng th\\xe1\\xba\\xa5y': <gensim.models.word2vec.Vocab at 0x7efb96652f10>,\n",
       " 'bao gi\\xe1\\xbb\\x9d': <gensim.models.word2vec.Vocab at 0x7efb971c1950>,\n",
       " 'hi\\xe1\\xbb\\x83n': <gensim.models.word2vec.Vocab at 0x7efb96652f50>,\n",
       " 'hi\\xe1\\xbb\\x83m': <gensim.models.word2vec.Vocab at 0x7efb97225e50>,\n",
       " 'ki\\xe1\\xba\\xbfn': <gensim.models.word2vec.Vocab at 0x7efb9720f5d0>,\n",
       " 'c\\xe1\\xba\\xa3 hai': <gensim.models.word2vec.Vocab at 0x7efb9720fe90>,\n",
       " 'nh\\xc6\\xb0 ch\\xc6\\xa1i': <gensim.models.word2vec.Vocab at 0x7efbb53f6690>,\n",
       " 'ru': <gensim.models.word2vec.Vocab at 0x7efbb53f6e90>,\n",
       " 'd\\xe1\\xbb\\xb1ng': <gensim.models.word2vec.Vocab at 0x7efb971c6a10>,\n",
       " 'nh\\xe1\\xbb\\xafng l\\xe1\\xbb\\x9di': <gensim.models.word2vec.Vocab at 0x7efbb5a52650>,\n",
       " 'c\\xc5\\xa9ng m\\xe1\\xbb\\x99t': <gensim.models.word2vec.Vocab at 0x7efb9720fed0>,\n",
       " '\\xc4\\x91\\xc3\\xb3ng': <gensim.models.word2vec.Vocab at 0x7efbb5a52e50>,\n",
       " 'phi\\xe1\\xbb\\x81n': <gensim.models.word2vec.Vocab at 0x7efb971cc790>,\n",
       " 'h\\xc3\\xb2a': <gensim.models.word2vec.Vocab at 0x7efb96652fd0>,\n",
       " 'ti\\xe1\\xbb\\x83u': <gensim.models.word2vec.Vocab at 0x7efbb5a57850>,\n",
       " 'chuy\\xe1\\xbb\\x87n': <gensim.models.word2vec.Vocab at 0x7efb96653050>,\n",
       " 'ra': <gensim.models.word2vec.Vocab at 0x7efbb5a57e10>,\n",
       " '\\xc4\\x90\\xc6\\xb0a': <gensim.models.word2vec.Vocab at 0x7efb96653090>,\n",
       " 'n\\xc3\\xa0y cho': <gensim.models.word2vec.Vocab at 0x7efb971c6a90>,\n",
       " 'cho qua': <gensim.models.word2vec.Vocab at 0x7efb971c6ad0>,\n",
       " 'l\\xc5\\xa9y': <gensim.models.word2vec.Vocab at 0x7efbb54ff0d0>,\n",
       " 'khu\\xc3\\xb4n': <gensim.models.word2vec.Vocab at 0x7efb966530d0>,\n",
       " 'gi\\xe1\\xbb\\x8dng': <gensim.models.word2vec.Vocab at 0x7efbb54d8990>,\n",
       " 'm\\xe1\\xbb\\x99t ng\\xc3\\xa0y': <gensim.models.word2vec.Vocab at 0x7efb9720ff10>,\n",
       " 's\\xe1\\xbb\\xb1 n\\xc3\\xa0y': <gensim.models.word2vec.Vocab at 0x7efbb594d210>,\n",
       " 'th\\xe1\\xba\\xa5t kinh': <gensim.models.word2vec.Vocab at 0x7efb971c6b90>,\n",
       " 'm\\xe1\\xba\\xb7t khu\\xe1\\xba\\xa5t': <gensim.models.word2vec.Vocab at 0x7efb9722b550>,\n",
       " 'c\\xe1\\xbb\\x9fi': <gensim.models.word2vec.Vocab at 0x7efb96653110>,\n",
       " '245': <gensim.models.word2vec.Vocab at 0x7efb9720ff50>,\n",
       " 'd\\xc3\\xacu': <gensim.models.word2vec.Vocab at 0x7efb971c6bd0>,\n",
       " 'v\\xe1\\xbb\\xaba': <gensim.models.word2vec.Vocab at 0x7efb971c6c10>,\n",
       " '240': <gensim.models.word2vec.Vocab at 0x7efb9720ff90>,\n",
       " 'g\\xc3\\xac l\\xc3\\xa0': <gensim.models.word2vec.Vocab at 0x7efb971c6c50>,\n",
       " 'khen r\\xe1\\xba\\xb1ng': <gensim.models.word2vec.Vocab at 0x7efb9720ffd0>,\n",
       " 'd\\xe1\\xba\\xa7u': <gensim.models.word2vec.Vocab at 0x7efbb594dbd0>,\n",
       " 'ra ng\\xc6\\xb0\\xe1\\xbb\\x9di': <gensim.models.word2vec.Vocab at 0x7efb97225710>,\n",
       " 'm\\xc6\\xb0a sa': <gensim.models.word2vec.Vocab at 0x7efb97215050>,\n",
       " '\\xc4\\x91\\xc3\\xb2i \\xc4\\x91o\\xe1\\xba\\xa1n': <gensim.models.word2vec.Vocab at 0x7efbb594d3d0>,\n",
       " 'd\\xe1\\xba\\xa7m': <gensim.models.word2vec.Vocab at 0x7efb9663df90>,\n",
       " 'gi\\xe1\\xbb\\xafa d\\xc3\\xb2ng': <gensim.models.word2vec.Vocab at 0x7efb96647050>,\n",
       " 'd\\xe1\\xba\\xa7n': <gensim.models.word2vec.Vocab at 0x7efb971ff490>,\n",
       " 'nghi\\xc3\\xaang': <gensim.models.word2vec.Vocab at 0x7efb97215090>,\n",
       " 'g\\xc3\\xa0': <gensim.models.word2vec.Vocab at 0x7efbb54ff890>,\n",
       " 'c\\xc3\\xb3 ba': <gensim.models.word2vec.Vocab at 0x7efb9663de50>,\n",
       " 'tin nh\\xc3\\xa0': <gensim.models.word2vec.Vocab at 0x7efb9663df10>,\n",
       " 'g\\xe1\\xba\\xa7n xa': <gensim.models.word2vec.Vocab at 0x7efb971c6cd0>,\n",
       " 'ch\\xc6\\xb0a phai': <gensim.models.word2vec.Vocab at 0x7efb966531d0>,\n",
       " 'g\\xc3\\xac': <gensim.models.word2vec.Vocab at 0x7efb972150d0>,\n",
       " 'h\\xe1\\xba\\xbft m\\xe1\\xbb\\x8di': <gensim.models.word2vec.Vocab at 0x7efb9722bed0>,\n",
       " 'm\\xc3\\xa0 mong': <gensim.models.word2vec.Vocab at 0x7efb97215110>,\n",
       " '\\xc3\\xa1i': <gensim.models.word2vec.Vocab at 0x7efb97215150>,\n",
       " '\\xc3\\xa1o': <gensim.models.word2vec.Vocab at 0x7efb97215190>,\n",
       " '\\xc3\\xa1n': <gensim.models.word2vec.Vocab at 0x7efbb54ffa10>,\n",
       " '\\xc3\\xa1c': <gensim.models.word2vec.Vocab at 0x7efb972151d0>,\n",
       " 'm\\xe1\\xbb\\x99t tay': <gensim.models.word2vec.Vocab at 0x7efb972257d0>,\n",
       " '175': <gensim.models.word2vec.Vocab at 0x7efb9663df50>,\n",
       " 'th\\xc3\\xb4ng': <gensim.models.word2vec.Vocab at 0x7efb96653210>,\n",
       " 'b\\xe1\\xba\\xa5y gi\\xe1\\xbb\\x9d': <gensim.models.word2vec.Vocab at 0x7efb96653250>,\n",
       " '\\xc3\\xaa': <gensim.models.word2vec.Vocab at 0x7efb971c6d90>,\n",
       " 'tr\\xc4\\x83m n\\xc4\\x83m': <gensim.models.word2vec.Vocab at 0x7efb96653290>,\n",
       " 'th\\xe1\\xba\\xa3o': <gensim.models.word2vec.Vocab at 0x7efb971c6dd0>,\n",
       " 'th\\xe1\\xba\\xa3m': <gensim.models.word2vec.Vocab at 0x7efb971c6e10>,\n",
       " 'r\\xe1\\xba\\xb1ng trong': <gensim.models.word2vec.Vocab at 0x7efb966532d0>,\n",
       " 'xin': <gensim.models.word2vec.Vocab at 0x7efbb58a6710>,\n",
       " 'kh\\xc3\\xbac \\xc4\\x91\\xc3\\xa2u': <gensim.models.word2vec.Vocab at 0x7efb971c6e50>,\n",
       " 'ng\\xc3\\xb9ng': <gensim.models.word2vec.Vocab at 0x7efbb58a6110>,\n",
       " 'xi\\xe1\\xba\\xbft': <gensim.models.word2vec.Vocab at 0x7efb96653310>,\n",
       " '\\xc3\\xbd': <gensim.models.word2vec.Vocab at 0x7efb971c6e90>,\n",
       " 'li\\xe1\\xbb\\x81u m\\xc3\\xacnh': <gensim.models.word2vec.Vocab at 0x7efb971d7f50>,\n",
       " 'c\\xc3\\xb3 hay': <gensim.models.word2vec.Vocab at 0x7efb97215bd0>,\n",
       " 'n\\xc3\\xa0ng t\\xe1\\xbb\\xab': <gensim.models.word2vec.Vocab at 0x7efb97215250>,\n",
       " '060': <gensim.models.word2vec.Vocab at 0x7efb97215290>,\n",
       " '\\xc4\\x91\\xc3\\xb9ng': <gensim.models.word2vec.Vocab at 0x7efb971c6ed0>,\n",
       " '065': <gensim.models.word2vec.Vocab at 0x7efbb54ffed0>,\n",
       " 'kh\\xc3\\xa9p': <gensim.models.word2vec.Vocab at 0x7efb971ed910>,\n",
       " 'ph\\xc3\\xa0ng': <gensim.models.word2vec.Vocab at 0x7efbb58a6250>,\n",
       " 'c\\xc3\\xbai \\xc4\\x91\\xe1\\xba\\xa7u': <gensim.models.word2vec.Vocab at 0x7efbb58a6350>,\n",
       " 's\\xc3\\xa1ng': <gensim.models.word2vec.Vocab at 0x7efb971c6fd0>,\n",
       " '190': <gensim.models.word2vec.Vocab at 0x7efb971cc050>,\n",
       " 'c\\xc3\\xa1ch': <gensim.models.word2vec.Vocab at 0x7efbb58a6050>,\n",
       " 'kh\\xe1\\xbb\\x8fi': <gensim.models.word2vec.Vocab at 0x7efbbf3ca2d0>,\n",
       " 'bu\\xc3\\xb4n': <gensim.models.word2vec.Vocab at 0x7efb96653390>,\n",
       " 'treo': <gensim.models.word2vec.Vocab at 0x7efbbf3ca390>,\n",
       " 'c\\xe1\\xba\\xaft': <gensim.models.word2vec.Vocab at 0x7efb97225550>,\n",
       " 'bu\\xe1\\xbb\\x93ng trong': <gensim.models.word2vec.Vocab at 0x7efb971d1d10>,\n",
       " 'ph\\xc6\\xb0\\xe1\\xbb\\x9dng': <gensim.models.word2vec.Vocab at 0x7efb966533d0>,\n",
       " 'minh': <gensim.models.word2vec.Vocab at 0x7efb97215390>,\n",
       " 'b\\xc3\\xa1o': <gensim.models.word2vec.Vocab at 0x7efbbf3ca750>,\n",
       " 'v\\xc3\\xa0o trong': <gensim.models.word2vec.Vocab at 0x7efb971cc090>,\n",
       " 'nh\\xc6\\xb0\\xe1\\xbb\\x9dng': <gensim.models.word2vec.Vocab at 0x7efb971cc0d0>,\n",
       " 'v\\xe1\\xba\\xbb chi': <gensim.models.word2vec.Vocab at 0x7efb96653410>,\n",
       " 's\\xc3\\xa2n': <gensim.models.word2vec.Vocab at 0x7efb97230e90>,\n",
       " 'ch\\xe1\\xba\\xb3ng xong': <gensim.models.word2vec.Vocab at 0x7efb96653450>,\n",
       " 'b\\xc3\\xa1t': <gensim.models.word2vec.Vocab at 0x7efbbf3ca910>,\n",
       " 'h\\xc6\\xb0\\xc6\\xa1ng': <gensim.models.word2vec.Vocab at 0x7efb96653490>,\n",
       " 'n\\xc3\\xa0y kh\\xc3\\xbac': <gensim.models.word2vec.Vocab at 0x7efb966534d0>,\n",
       " 'h\\xe1\\xbb\\x93ng qu\\xe1\\xba\\xa7n': <gensim.models.word2vec.Vocab at 0x7efb972153d0>,\n",
       " 'ch\\xc3\\xbat ngh\\xc4\\xa9a': <gensim.models.word2vec.Vocab at 0x7efb971cc110>,\n",
       " 'gieo': <gensim.models.word2vec.Vocab at 0x7efb96653510>,\n",
       " 's\\xc3\\xa2u': <gensim.models.word2vec.Vocab at 0x7efb97230ed0>,\n",
       " 'l\\xe1\\xbb\\x9di n\\xc3\\xb3i': <gensim.models.word2vec.Vocab at 0x7efb97215410>,\n",
       " 'ch\\xc3\\xa0ng': <gensim.models.word2vec.Vocab at 0x7efb97215450>,\n",
       " 's\\xe1\\xba\\xa5m': <gensim.models.word2vec.Vocab at 0x7efb97215490>,\n",
       " 'c\\xe1\\xba\\xa5u': <gensim.models.word2vec.Vocab at 0x7efb97230f10>,\n",
       " 'xa x\\xc3\\xb4i': <gensim.models.word2vec.Vocab at 0x7efbb5533e10>,\n",
       " 'm\\xe1\\xbb\\x9bi v\\xe1\\xbb\\x81': <gensim.models.word2vec.Vocab at 0x7efb971cc190>,\n",
       " 'h\\xe1\\xbb\\x93n mai': <gensim.models.word2vec.Vocab at 0x7efb972154d0>,\n",
       " 'v\\xe1\\xba\\xaby': <gensim.models.word2vec.Vocab at 0x7efb96653590>,\n",
       " 'l\\xe1\\xba\\xa1c lo\\xc3\\xa0i': <gensim.models.word2vec.Vocab at 0x7efb9664f410>,\n",
       " 'c\\xc3\\xb9ng': <gensim.models.word2vec.Vocab at 0x7efb96610b10>,\n",
       " 'ng\\xe1\\xba\\xa3': <gensim.models.word2vec.Vocab at 0x7efbbf34f950>,\n",
       " '\\xc4\\x91\\xe1\\xba\\xa5y': <gensim.models.word2vec.Vocab at 0x7efb971b6650>,\n",
       " 'v\\xc4\\x83n': <gensim.models.word2vec.Vocab at 0x7efbb5533c50>,\n",
       " 'h\\xc3\\xa3y c\\xc3\\xb2n': <gensim.models.word2vec.Vocab at 0x7efb971cc210>,\n",
       " 'v\\xe1\\xba\\xabn': <gensim.models.word2vec.Vocab at 0x7efb96653610>,\n",
       " 'kh\\xe1\\xba\\xafp': <gensim.models.word2vec.Vocab at 0x7efb971f2590>,\n",
       " '\\xc4\\x91\\xe1\\xbb\\xa9a': <gensim.models.word2vec.Vocab at 0x7efb971cc250>,\n",
       " 'l\\xe1\\xba\\xadp': <gensim.models.word2vec.Vocab at 0x7efb97215510>,\n",
       " 'th\\xe1\\xbb\\x9di': <gensim.models.word2vec.Vocab at 0x7efb97215550>,\n",
       " 'tr\\xc3\\xb3t': <gensim.models.word2vec.Vocab at 0x7efb97215590>,\n",
       " 'h\\xe1\\xba\\xb3n': <gensim.models.word2vec.Vocab at 0x7efb971b6850>,\n",
       " 's\\xe1\\xbb\\x9f khanh': <gensim.models.word2vec.Vocab at 0x7efbb5533750>,\n",
       " 'mu\\xe1\\xbb\\x91i': <gensim.models.word2vec.Vocab at 0x7efbb5533490>,\n",
       " 'b\\xc6\\xb0\\xe1\\xbb\\x9bc': <gensim.models.word2vec.Vocab at 0x7efb971c6250>,\n",
       " '\\xc4\\x91\\xe1\\xbb\\xa9t': <gensim.models.word2vec.Vocab at 0x7efb971cc310>,\n",
       " 't\\xc3\\xacnh': <gensim.models.word2vec.Vocab at 0x7efbb5533650>,\n",
       " 'hai b\\xc3\\xaan': <gensim.models.word2vec.Vocab at 0x7efb9664fb10>,\n",
       " 'g\\xe1\\xba\\xb7p nhau': <gensim.models.word2vec.Vocab at 0x7efb971cc350>,\n",
       " '\\xc4\\x91\\xc3\\xaam': <gensim.models.word2vec.Vocab at 0x7efb971cc390>,\n",
       " 'v\\xc3\\xb4 t\\xc3\\xadch': <gensim.models.word2vec.Vocab at 0x7efb971b6e10>,\n",
       " 'ph\\xe1\\xba\\xa3i \\xc4\\x91i\\xe1\\xbb\\x81u': <gensim.models.word2vec.Vocab at 0x7efb97215610>,\n",
       " 'di': <gensim.models.word2vec.Vocab at 0x7efb96653690>,\n",
       " 'th\\xc6\\xb0a r\\xe1\\xba\\xb1ng': <gensim.models.word2vec.Vocab at 0x7efbb5533550>,\n",
       " 'x\\xc3\\xb3t n\\xc3\\xa0ng': <gensim.models.word2vec.Vocab at 0x7efb97215650>,\n",
       " 'da': <gensim.models.word2vec.Vocab at 0x7efb966536d0>,\n",
       " 'm\\xe1\\xbb\\x9f ti\\xe1\\xbb\\x87c': <gensim.models.word2vec.Vocab at 0x7efbbf3ef390>,\n",
       " 'ch\\xc6\\xb0a': <gensim.models.word2vec.Vocab at 0x7efb97215690>,\n",
       " 'du': <gensim.models.word2vec.Vocab at 0x7efb96653710>,\n",
       " 'khinh': <gensim.models.word2vec.Vocab at 0x7efb971cc3d0>,\n",
       " 't\\xc3\\xa0nh': <gensim.models.word2vec.Vocab at 0x7efb972156d0>,\n",
       " 'b\\xe1\\xbb\\x93i': <gensim.models.word2vec.Vocab at 0x7efbbf3ef2d0>,\n",
       " 't\\xc3\\xa0ng': <gensim.models.word2vec.Vocab at 0x7efb96650390>,\n",
       " 'bay': <gensim.models.word2vec.Vocab at 0x7efb97215750>,\n",
       " 'n\\xe1\\xba\\xb1m': <gensim.models.word2vec.Vocab at 0x7efb971d1dd0>,\n",
       " 'm\\xc3\\xb9i': <gensim.models.word2vec.Vocab at 0x7efb97215790>,\n",
       " 't\\xe1\\xbb\\x91i': <gensim.models.word2vec.Vocab at 0x7efb966503d0>,\n",
       " 'suy': <gensim.models.word2vec.Vocab at 0x7efb971dc4d0>,\n",
       " 'ban': <gensim.models.word2vec.Vocab at 0x7efb972157d0>,\n",
       " 'bao': <gensim.models.word2vec.Vocab at 0x7efb97215810>,\n",
       " 'm\\xc3\\xb9a': <gensim.models.word2vec.Vocab at 0x7efb97215850>,\n",
       " '\\xc4\\x90\\xe1\\xbb\\x9di': <gensim.models.word2vec.Vocab at 0x7efbbf3ef310>,\n",
       " 'xa xa': <gensim.models.word2vec.Vocab at 0x7efb96653750>,\n",
       " 'vi\\xe1\\xba\\xbft': <gensim.models.word2vec.Vocab at 0x7efbbf3ef190>,\n",
       " 'ch\\xc4\\x83n g\\xe1\\xbb\\x91i': <gensim.models.word2vec.Vocab at 0x7efb97215890>,\n",
       " 'r\\xe1\\xba\\xb1ng s\\xc3\\xb4ng': <gensim.models.word2vec.Vocab at 0x7efb971cc490>,\n",
       " '\\xe1\\xbb\\x9f trong': <gensim.models.word2vec.Vocab at 0x7efb972042d0>,\n",
       " 'l\\xe1\\xba\\xa1y tr\\xc6\\xb0\\xe1\\xbb\\x9bc': <gensim.models.word2vec.Vocab at 0x7efb971cc4d0>,\n",
       " 'th\\xe1\\xba\\xa7n h\\xc3\\xb4n': <gensim.models.word2vec.Vocab at 0x7efb9721aa90>,\n",
       " 'ph\\xc3\\xa1t': <gensim.models.word2vec.Vocab at 0x7efbbf3ef210>,\n",
       " 'm\\xe1\\xbb\\xa5 c\\xc3\\xa0ng': <gensim.models.word2vec.Vocab at 0x7efb971cc550>,\n",
       " 'ph\\xc3\\xa1p': <gensim.models.word2vec.Vocab at 0x7efbbf3ef110>,\n",
       " 'x\\xc3\\xb3t xa': <gensim.models.word2vec.Vocab at 0x7efb971cc590>,\n",
       " '\\xc4\\x91i\\xe1\\xbb\\x83m': <gensim.models.word2vec.Vocab at 0x7efb971cc5d0>,\n",
       " 'm\\xc3\\xa1 h\\xe1\\xbb\\x93ng': <gensim.models.word2vec.Vocab at 0x7efb96653790>,\n",
       " '00': <gensim.models.word2vec.Vocab at 0x7efb972158d0>,\n",
       " 'g\\xe1\\xba\\xa7y': <gensim.models.word2vec.Vocab at 0x7efb97215910>,\n",
       " '05': <gensim.models.word2vec.Vocab at 0x7efb97215950>,\n",
       " 'l\\xe1\\xba\\xa1nh': <gensim.models.word2vec.Vocab at 0x7efbb55cb850>,\n",
       " 'g\\xe1\\xba\\xa7n': <gensim.models.word2vec.Vocab at 0x7efb97215990>,\n",
       " 'l\\xe1\\xba\\xa1ng': <gensim.models.word2vec.Vocab at 0x7efbb55cb750>,\n",
       " 'ng\\xe1\\xba\\xadm g\\xc6\\xb0\\xc6\\xa1ng': <gensim.models.word2vec.Vocab at 0x7efb972159d0>,\n",
       " 'trong': <gensim.models.word2vec.Vocab at 0x7efbbf34fc90>,\n",
       " 'tr\\xc6\\xb0\\xe1\\xbb\\x9bc ph\\xe1\\xba\\xadt': <gensim.models.word2vec.Vocab at 0x7efb966510d0>,\n",
       " 'ph\\xe1\\xba\\xa5n': <gensim.models.word2vec.Vocab at 0x7efb96653850>,\n",
       " '\\xc4\\x91inh ninh': <gensim.models.word2vec.Vocab at 0x7efb96653890>,\n",
       " 's\\xe1\\xba\\xafm sanh': <gensim.models.word2vec.Vocab at 0x7efb971ff550>,\n",
       " 'ng\\xc6\\xa1 ng\\xe1\\xba\\xa9n': <gensim.models.word2vec.Vocab at 0x7efb97215a50>,\n",
       " 'h\\xc3\\xa3i': <gensim.models.word2vec.Vocab at 0x7efbb55cb590>,\n",
       " 't\\xe1\\xba\\xa5c': <gensim.models.word2vec.Vocab at 0x7efb971cc690>,\n",
       " 'b\\xc4\\x83ng': <gensim.models.word2vec.Vocab at 0x7efbb55cb690>,\n",
       " 'm\\xe1\\xbb\\x8dc': <gensim.models.word2vec.Vocab at 0x7efb966538d0>,\n",
       " 'm\\xe1\\xba\\xb7n': <gensim.models.word2vec.Vocab at 0x7efb9721a310>,\n",
       " 'n\\xc3\\xa0ng v\\xe1\\xbb\\x81': <gensim.models.word2vec.Vocab at 0x7efb966513d0>,\n",
       " 'hao': <gensim.models.word2vec.Vocab at 0x7efbb583e050>,\n",
       " 'y\\xe1\\xba\\xbfn anh': <gensim.models.word2vec.Vocab at 0x7efb96651510>,\n",
       " 'm\\xe1\\xbb\\x8di': <gensim.models.word2vec.Vocab at 0x7efb96653950>,\n",
       " 'khu\\xe1\\xba\\xa5t': <gensim.models.word2vec.Vocab at 0x7efbb53c1c10>,\n",
       " 'ch\\xc6\\xb0a k\\xe1\\xbb\\x8bp': <gensim.models.word2vec.Vocab at 0x7efb97215a90>,\n",
       " '\\xc4\\x91\\xc3\\xb4i': <gensim.models.word2vec.Vocab at 0x7efb97215ad0>,\n",
       " 'coi': <gensim.models.word2vec.Vocab at 0x7efb96653990>,\n",
       " '\\xc4\\x91\\xc3\\xa2u': <gensim.models.word2vec.Vocab at 0x7efb971e2d10>,\n",
       " 'con': <gensim.models.word2vec.Vocab at 0x7efb966539d0>,\n",
       " 'd\\xc3\\xb9ng d\\xe1\\xba\\xb1ng': <gensim.models.word2vec.Vocab at 0x7efb96653a10>,\n",
       " 'th\\xe1\\xbb\\xaba': <gensim.models.word2vec.Vocab at 0x7efb971cc710>,\n",
       " 'ng\\xc6\\xb0\\xe1\\xbb\\x9di': <gensim.models.word2vec.Vocab at 0x7efb96653a50>,\n",
       " 'ng\\xe1\\xba\\xadp ng\\xe1\\xbb\\xabng': <gensim.models.word2vec.Vocab at 0x7efb971dc650>,\n",
       " 'th\\xe1\\xba\\xbf th\\xc3\\xac': <gensim.models.word2vec.Vocab at 0x7efb96651c50>,\n",
       " '250': <gensim.models.word2vec.Vocab at 0x7efb97225290>,\n",
       " 'v\\xe1\\xbb\\x9bi ai': <gensim.models.word2vec.Vocab at 0x7efb96653ad0>,\n",
       " '100': <gensim.models.word2vec.Vocab at 0x7efb9720f8d0>,\n",
       " 'l\\xc3\\xa0m chi': <gensim.models.word2vec.Vocab at 0x7efb971c17d0>,\n",
       " 'l\\xc3\\xa0m cho': <gensim.models.word2vec.Vocab at 0x7efb96653b10>,\n",
       " 'v\\xc3\\xa2n': <gensim.models.word2vec.Vocab at 0x7efb971cc7d0>,\n",
       " 'l\\xc3\\xb2ng c\\xc3\\xa0ng': <gensim.models.word2vec.Vocab at 0x7efb971cc810>,\n",
       " 'r\\xc3\\xa8m': <gensim.models.word2vec.Vocab at 0x7efb97215c10>,\n",
       " 'd\\xc6\\xb0\\xe1\\xbb\\x9bi \\xc4\\x91\\xc3\\xa8n': <gensim.models.word2vec.Vocab at 0x7efb971cc850>,\n",
       " 'gi\\xc3\\xa1c duy\\xc3\\xaan': <gensim.models.word2vec.Vocab at 0x7efb97215c50>,\n",
       " 'r\\xe1\\xbb\\x9di': <gensim.models.word2vec.Vocab at 0x7efb96653b50>,\n",
       " '\\xc4\\x90au l\\xc3\\xb2ng': <gensim.models.word2vec.Vocab at 0x7efbb53c1410>,\n",
       " '\\xc6\\xb0ng': <gensim.models.word2vec.Vocab at 0x7efb96653b90>,\n",
       " 'tinh': <gensim.models.word2vec.Vocab at 0x7efb97215c90>,\n",
       " 'h\\xc3\\xa0n huy\\xc3\\xaan': <gensim.models.word2vec.Vocab at 0x7efb96653bd0>,\n",
       " 'l\\xe1\\xba\\xa1 l\\xc3\\xb9ng': <gensim.models.word2vec.Vocab at 0x7efb97215cd0>,\n",
       " 'cung': <gensim.models.word2vec.Vocab at 0x7efbb54ca450>,\n",
       " '165': <gensim.models.word2vec.Vocab at 0x7efb97215d10>,\n",
       " '160': <gensim.models.word2vec.Vocab at 0x7efb97215d50>,\n",
       " 'th\\xc3\\xb9': <gensim.models.word2vec.Vocab at 0x7efb97215d90>,\n",
       " 'th\\xc3\\xba': <gensim.models.word2vec.Vocab at 0x7efb966523d0>,\n",
       " 'tanh': <gensim.models.word2vec.Vocab at 0x7efb97215dd0>,\n",
       " 'tang': <gensim.models.word2vec.Vocab at 0x7efb97215e10>,\n",
       " '\\xc4\\x91i v\\xe1\\xbb\\x81': <gensim.models.word2vec.Vocab at 0x7efbb56d5410>,\n",
       " '\\xc4\\x91\\xe1\\xbb\\x8da': <gensim.models.word2vec.Vocab at 0x7efb96653c10>,\n",
       " 'ch\\xe1\\xba\\xb3ng bi\\xe1\\xba\\xbft': <gensim.models.word2vec.Vocab at 0x7efb96653c50>,\n",
       " 'th\\xc3\\xa0': <gensim.models.word2vec.Vocab at 0x7efb97215ed0>,\n",
       " '075': <gensim.models.word2vec.Vocab at 0x7efbb56d5c10>,\n",
       " '070': <gensim.models.word2vec.Vocab at 0x7efbb56d4150>,\n",
       " 's\\xe1\\xba\\xbd li\\xe1\\xbb\\x87u': <gensim.models.word2vec.Vocab at 0x7efb97215f10>,\n",
       " 'n\\xc6\\xb0\\xe1\\xbb\\x9bc non': <gensim.models.word2vec.Vocab at 0x7efb97215f50>,\n",
       " 'm\\xe1\\xba\\xa5y': <gensim.models.word2vec.Vocab at 0x7efb971cc8d0>,\n",
       " 'canh': <gensim.models.word2vec.Vocab at 0x7efb97215f90>,\n",
       " '\\xc4\\x90\\xc6\\xb0\\xe1\\xbb\\xa3c l\\xe1\\xbb\\x9di': <gensim.models.word2vec.Vocab at 0x7efb971bb910>,\n",
       " 'in': <gensim.models.word2vec.Vocab at 0x7efb97215fd0>,\n",
       " 'cu\\xe1\\xbb\\x91i': <gensim.models.word2vec.Vocab at 0x7efb9721a050>,\n",
       " 'r\\xc6\\xa1i': <gensim.models.word2vec.Vocab at 0x7efbb56d4950>,\n",
       " 'cu\\xe1\\xbb\\x91n': <gensim.models.word2vec.Vocab at 0x7efb96652b10>,\n",
       " 'b\\xe1\\xba\\xa1c': <gensim.models.word2vec.Vocab at 0x7efb9721a090>,\n",
       " 'th\\xc3\\xa0nh': <gensim.models.word2vec.Vocab at 0x7efb96653c90>,\n",
       " 'quang': <gensim.models.word2vec.Vocab at 0x7efb9721a0d0>,\n",
       " 'quanh': <gensim.models.word2vec.Vocab at 0x7efb9721a110>,\n",
       " '\\xc4\\x91\\xc3\\xa3 ph\\xe1\\xbb\\xa5': <gensim.models.word2vec.Vocab at 0x7efb9c0f2750>,\n",
       " 'kh\\xc3\\xa1ch': <gensim.models.word2vec.Vocab at 0x7efb971cc990>,\n",
       " 'h\\xe1\\xbb\\x9dn': <gensim.models.word2vec.Vocab at 0x7efb96653cd0>,\n",
       " 's\\xe1\\xbb\\x9f': <gensim.models.word2vec.Vocab at 0x7efb971bb9d0>,\n",
       " 'n\\xe1\\xbb\\x91i': <gensim.models.word2vec.Vocab at 0x7efb96653d10>,\n",
       " 'kim': <gensim.models.word2vec.Vocab at 0x7efb9721a190>,\n",
       " '\\xc3\\xa0o': <gensim.models.word2vec.Vocab at 0x7efbb577a3d0>,\n",
       " 'kia': <gensim.models.word2vec.Vocab at 0x7efb9721a1d0>,\n",
       " 'ngh\\xe1\\xbb\\x81 ch\\xc6\\xa1i': <gensim.models.word2vec.Vocab at 0x7efb9721a210>,\n",
       " 'g\\xc6\\xb0\\xe1\\xbb\\xa3ng': <gensim.models.word2vec.Vocab at 0x7efb971c6f50>,\n",
       " 'ng\\xe1\\xbb\\x8dn \\xc4\\x91\\xc3\\xa8n': <gensim.models.word2vec.Vocab at 0x7efb96653350>,\n",
       " 'ch\\xe1\\xbb\\x8dn': <gensim.models.word2vec.Vocab at 0x7efb96653d50>,\n",
       " 'thu': <gensim.models.word2vec.Vocab at 0x7efb96653d90>,\n",
       " 'xu\\xc3\\xa2n m\\xe1\\xbb\\x99t': <gensim.models.word2vec.Vocab at 0x7efb9720f950>,\n",
       " 'tuy\\xe1\\xbb\\x81n': <gensim.models.word2vec.Vocab at 0x7efb971bba10>,\n",
       " 'v\\xc3\\xa0ng \\xc4\\x91\\xc3\\xa1': <gensim.models.word2vec.Vocab at 0x7efbbf34f8d0>,\n",
       " 'thi': <gensim.models.word2vec.Vocab at 0x7efb96653e10>,\n",
       " 't\\xc3\\xacnh x\\xc6\\xb0a': <gensim.models.word2vec.Vocab at 0x7efb9721a250>,\n",
       " 'the': <gensim.models.word2vec.Vocab at 0x7efb96653e50>,\n",
       " 'tha': <gensim.models.word2vec.Vocab at 0x7efb96653e90>,\n",
       " 'ph\\xe1\\xba\\xa3i ng\\xc6\\xb0\\xe1\\xbb\\x9di': <gensim.models.word2vec.Vocab at 0x7efb971cca10>,\n",
       " 't\\xc3\\xacm \\xc4\\x91\\xc3\\xa2u': <gensim.models.word2vec.Vocab at 0x7efb9721a290>,\n",
       " 'n\\xc3\\xa1t': <gensim.models.word2vec.Vocab at 0x7efb9722b3d0>,\n",
       " 'nh\\xe1\\xba\\xadm': <gensim.models.word2vec.Vocab at 0x7efb96653650>,\n",
       " 'th\\xc3\\xbac \\xc3\\xb4ng': <gensim.models.word2vec.Vocab at 0x7efb96653ed0>,\n",
       " 'nh\\xe1\\xba\\xadt': <gensim.models.word2vec.Vocab at 0x7efbbf34f990>,\n",
       " 'g\\xc3\\xac \\xc4\\x91\\xc6\\xb0\\xe1\\xbb\\xa3c': <gensim.models.word2vec.Vocab at 0x7efb96653f10>,\n",
       " 'l\\xe1\\xba\\xa1i th\\xe1\\xba\\xa5y': <gensim.models.word2vec.Vocab at 0x7efbb57e9210>,\n",
       " 'hai': <gensim.models.word2vec.Vocab at 0x7efb96653810>,\n",
       " 'l\\xe1\\xba\\xa7n l\\xe1\\xba\\xa7n': <gensim.models.word2vec.Vocab at 0x7efb971cca50>,\n",
       " 'lu\\xe1\\xbb\\x91ng': <gensim.models.word2vec.Vocab at 0x7efb9721a2d0>,\n",
       " 'han': <gensim.models.word2vec.Vocab at 0x7efbbf34f510>,\n",
       " 'th\\xe1\\xba\\xa5y ng\\xc6\\xb0\\xe1\\xbb\\x9di': <gensim.models.word2vec.Vocab at 0x7efb96653910>,\n",
       " 'cung c\\xe1\\xba\\xa7m': <gensim.models.word2vec.Vocab at 0x7efb9721a350>,\n",
       " 'm\\xe1\\xba\\xb7c': <gensim.models.word2vec.Vocab at 0x7efb9721a390>,\n",
       " 's\\xc3\\xa1': <gensim.models.word2vec.Vocab at 0x7efb96653f50>,\n",
       " 'l\\xe1\\xbb\\x97i': <gensim.models.word2vec.Vocab at 0x7efb971cca90>,\n",
       " 'hay': <gensim.models.word2vec.Vocab at 0x7efbb583ef10>,\n",
       " 'bi\\xe1\\xba\\xbft bao': <gensim.models.word2vec.Vocab at 0x7efb971ccad0>,\n",
       " 'trinh': <gensim.models.word2vec.Vocab at 0x7efb971ccb10>,\n",
       " 'ch\\xe1\\xbb\\x91c': <gensim.models.word2vec.Vocab at 0x7efb971e7a50>,\n",
       " 'm\\xe1\\xba\\xb7t': <gensim.models.word2vec.Vocab at 0x7efb9721a3d0>,\n",
       " 'b\\xc3\\xa0i': <gensim.models.word2vec.Vocab at 0x7efb9721a410>,\n",
       " 'd\\xe1\\xba\\xabu': <gensim.models.word2vec.Vocab at 0x7efb966515d0>,\n",
       " 'b\\xc3\\xa0o': <gensim.models.word2vec.Vocab at 0x7efb9721a450>,\n",
       " 'b\\xc3\\xa0n': <gensim.models.word2vec.Vocab at 0x7efb9721a490>,\n",
       " 'b\\xc3\\xa0y': <gensim.models.word2vec.Vocab at 0x7efb9721a4d0>,\n",
       " 'tri\\xe1\\xbb\\x81u \\xc4\\x91\\xc3\\xacnh': <gensim.models.word2vec.Vocab at 0x7efb971ccb50>,\n",
       " 'hoa \\xc4\\x91\\xc3\\xa3': <gensim.models.word2vec.Vocab at 0x7efbb5859750>,\n",
       " 'ta c\\xc3\\xb3': <gensim.models.word2vec.Vocab at 0x7efb9721a550>,\n",
       " 'c\\xc4\\x83n': <gensim.models.word2vec.Vocab at 0x7efb97230b90>,\n",
       " '55': <gensim.models.word2vec.Vocab at 0x7efb971ccb90>,\n",
       " 'tr\\xe1\\xba\\xa7m': <gensim.models.word2vec.Vocab at 0x7efb971ccbd0>,\n",
       " 'tr\\xe1\\xba\\xa7n': <gensim.models.word2vec.Vocab at 0x7efb971ccc10>,\n",
       " 'l\\xe1\\xba\\xa1i l\\xc3\\xa0': <gensim.models.word2vec.Vocab at 0x7efb9721a5d0>,\n",
       " '50': <gensim.models.word2vec.Vocab at 0x7efb971ccc50>,\n",
       " '\\xc4\\x91\\xc3\\xa3 b\\xc3\\xa9n': <gensim.models.word2vec.Vocab at 0x7efbb56c51d0>,\n",
       " 'tr\\xe1\\xbb\\x8dng': <gensim.models.word2vec.Vocab at 0x7efb9721a610>,\n",
       " 'lu\\xe1\\xbb\\x93n': <gensim.models.word2vec.Vocab at 0x7efb9720f990>,\n",
       " 'm\\xc3\\xa0 ra': <gensim.models.word2vec.Vocab at 0x7efb96653f90>,\n",
       " 'r\\xe1\\xba\\xb1ng ai': <gensim.models.word2vec.Vocab at 0x7efb96653fd0>,\n",
       " '\\xe1\\xbb\\x9f \\xc4\\x91\\xc3\\xa2y': <gensim.models.word2vec.Vocab at 0x7efb96654050>,\n",
       " 'ph\\xe1\\xba\\xadn t\\xc3\\xb4i': <gensim.models.word2vec.Vocab at 0x7efbb56c5ed0>,\n",
       " 'm\\xc3\\xacnh m\\xc3\\xacnh': <gensim.models.word2vec.Vocab at 0x7efb96654090>,\n",
       " 't\\xc3\\xacm \\xc4\\x91\\xc6\\xb0\\xe1\\xbb\\x9dng': <gensim.models.word2vec.Vocab at 0x7efb971b6410>,\n",
       " 'm\\xe1\\xbb\\x99t v\\xc3\\xb9ng': <gensim.models.word2vec.Vocab at 0x7efb966540d0>,\n",
       " '\\xe1\\xbb\\x9f \\xc4\\x91\\xc3\\xa2u': <gensim.models.word2vec.Vocab at 0x7efb96654110>,\n",
       " 'hoa \\xc4\\x91\\xc3\\xa0o': <gensim.models.word2vec.Vocab at 0x7efb96654610>,\n",
       " '205': <gensim.models.word2vec.Vocab at 0x7efb97220e10>,\n",
       " '\\xc4\\x90\\xc3\\xa3 l\\xc3\\xb2ng': <gensim.models.word2vec.Vocab at 0x7efb9721a650>,\n",
       " 'ch\\xe1\\xbb\\xaf \\xc4\\x91\\xe1\\xbb\\x93ng': <gensim.models.word2vec.Vocab at 0x7efb96654650>,\n",
       " 'ng\\xe1\\xbb\\x8dc': <gensim.models.word2vec.Vocab at 0x7efb9721a690>,\n",
       " 'ng\\xe1\\xbb\\x8dn': <gensim.models.word2vec.Vocab at 0x7efb9721a6d0>,\n",
       " 'tr\\xc4\\x83ng \\xc4\\x91\\xc3\\xa3': <gensim.models.word2vec.Vocab at 0x7efb96654150>,\n",
       " 'ng\\xe1\\xbb\\x8dt': <gensim.models.word2vec.Vocab at 0x7efb9721a710>,\n",
       " 'xu\\xc3\\xa2n \\xc4\\x91\\xc6\\xb0\\xe1\\xbb\\x9dng': <gensim.models.word2vec.Vocab at 0x7efb971cccd0>,\n",
       " 't\\xc3\\xa2m ph\\xc3\\xbac': <gensim.models.word2vec.Vocab at 0x7efb9721aed0>,\n",
       " 'l\\xc6\\xb0\\xe1\\xbb\\xa3ng': <gensim.models.word2vec.Vocab at 0x7efb9721a750>,\n",
       " 'b\\xc3\\xac': <gensim.models.word2vec.Vocab at 0x7efb971ccd50>,\n",
       " 'n\\xe1\\xba\\xafng m\\xc6\\xb0a': <gensim.models.word2vec.Vocab at 0x7efb971ccd90>,\n",
       " 'b\\xe1\\xbb\\x91n ph\\xc6\\xb0\\xc6\\xa1ng': <gensim.models.word2vec.Vocab at 0x7efb96647d10>,\n",
       " 'b\\xc3\\xa0': <gensim.models.word2vec.Vocab at 0x7efb971ccdd0>,\n",
       " 'phen': <gensim.models.word2vec.Vocab at 0x7efb966541d0>,\n",
       " '\\xc4\\x91\\xc3\\xa3 \\xc4\\x91\\xe1\\xba\\xa7y': <gensim.models.word2vec.Vocab at 0x7efb96654210>,\n",
       " 'tr\\xc3\\xb2n': <gensim.models.word2vec.Vocab at 0x7efbb5843c90>,\n",
       " 'r\\xe1\\xbb\\x93i s\\xe1\\xba\\xbd': <gensim.models.word2vec.Vocab at 0x7efb9c0bb610>,\n",
       " 'kh\\xc3\\xb3c than': <gensim.models.word2vec.Vocab at 0x7efb971e2f90>,\n",
       " 'g\\xc3\\xa1nh': <gensim.models.word2vec.Vocab at 0x7efb971cce10>,\n",
       " 'b\\xc3\\xb5': <gensim.models.word2vec.Vocab at 0x7efb971cce50>,\n",
       " 'l\\xc3\\xa2m truy': <gensim.models.word2vec.Vocab at 0x7efb9722b750>,\n",
       " 'k\\xc3\\xa9o': <gensim.models.word2vec.Vocab at 0x7efb9721a790>,\n",
       " 'thu\\xe1\\xbb\\x91c': <gensim.models.word2vec.Vocab at 0x7efb971dc510>,\n",
       " 'kh\\xe1\\xba\\xa5u \\xc4\\x91\\xe1\\xba\\xa7u': <gensim.models.word2vec.Vocab at 0x7efb971cced0>,\n",
       " 'b\\xc6\\xa1 v\\xc6\\xa1': <gensim.models.word2vec.Vocab at 0x7efb9721a7d0>,\n",
       " 'g\\xe1\\xbb\\x8di n\\xc3\\xa0ng': <gensim.models.word2vec.Vocab at 0x7efb97220e50>,\n",
       " 'm\\xc3\\xa0y ng\\xc3\\xa0i': <gensim.models.word2vec.Vocab at 0x7efb96654290>,\n",
       " 'ng\\xe1\\xbb\\x9d': <gensim.models.word2vec.Vocab at 0x7efb9721a810>,\n",
       " 'ch\\xe1\\xbb\\x93ng': <gensim.models.word2vec.Vocab at 0x7efb9c0bb4d0>,\n",
       " 'ng\\xe1\\xbb\\x99': <gensim.models.word2vec.Vocab at 0x7efb9721a850>,\n",
       " 'soi': <gensim.models.word2vec.Vocab at 0x7efb966104d0>,\n",
       " 'son': <gensim.models.word2vec.Vocab at 0x7efb9c0bbcd0>,\n",
       " 'l\\xc3\\xb2a': <gensim.models.word2vec.Vocab at 0x7efb9c0c6a10>,\n",
       " 'ng\\xe1\\xbb\\x8f': <gensim.models.word2vec.Vocab at 0x7efb9721a890>,\n",
       " 'th\\xc3\\xa1c': <gensim.models.word2vec.Vocab at 0x7efb96654310>,\n",
       " 'th\\xe1\\xba\\xb3m': <gensim.models.word2vec.Vocab at 0x7efb9c0d1250>,\n",
       " 'ph\\xe1\\xba\\xadt ti\\xe1\\xbb\\x81n': <gensim.models.word2vec.Vocab at 0x7efb966107d0>,\n",
       " 'ra v\\xc3\\xa0o': <gensim.models.word2vec.Vocab at 0x7efb96654350>,\n",
       " 'v\\xc6\\xb0\\xc6\\xa1ng': <gensim.models.word2vec.Vocab at 0x7efb96654390>,\n",
       " 'h\\xc3\\xb4n': <gensim.models.word2vec.Vocab at 0x7efb966543d0>,\n",
       " 'h\\xc3\\xb4m': <gensim.models.word2vec.Vocab at 0x7efb96654410>,\n",
       " '\\xc4\\x90\\xc3\\xa1nh': <gensim.models.word2vec.Vocab at 0x7efb9721a910>,\n",
       " 'ti\\xe1\\xbb\\x81n': <gensim.models.word2vec.Vocab at 0x7efb9c0d1a50>,\n",
       " 'ch\\xc3\\xa9p': <gensim.models.word2vec.Vocab at 0x7efb971c6310>,\n",
       " 'dong': <gensim.models.word2vec.Vocab at 0x7efb972302d0>,\n",
       " 'l\\xc3\\xb2ng l\\xe1\\xba\\xa1i': <gensim.models.word2vec.Vocab at 0x7efb965f5f50>,\n",
       " 'gia': <gensim.models.word2vec.Vocab at 0x7efb971ccfd0>,\n",
       " 'kh\\xc4\\x83n': <gensim.models.word2vec.Vocab at 0x7efb971ccf50>,\n",
       " 'truy': <gensim.models.word2vec.Vocab at 0x7efb96654490>,\n",
       " 'd\\xc6\\xb0\\xe1\\xbb\\x9dng \\xc4\\x91\\xc3\\xa3': <gensim.models.word2vec.Vocab at 0x7efb971b6610>,\n",
       " 'ch\\xc3\\xbaa': <gensim.models.word2vec.Vocab at 0x7efb9721a990>,\n",
       " '\\xc4\\x90i\\xe1\\xbb\\x81u': <gensim.models.word2vec.Vocab at 0x7efb9664f150>,\n",
       " 'h\\xe1\\xbb\\xa3p tan': <gensim.models.word2vec.Vocab at 0x7efb96647e50>,\n",
       " 'ni\\xc3\\xaan': <gensim.models.word2vec.Vocab at 0x7efb9c0dca90>,\n",
       " 'c\\xe1\\xbb\\x91t': <gensim.models.word2vec.Vocab at 0x7efb966544d0>,\n",
       " '225': <gensim.models.word2vec.Vocab at 0x7efb9721aa10>,\n",
       " 'ngo\\xc3\\xa0i': <gensim.models.word2vec.Vocab at 0x7efb96654510>,\n",
       " 'g\\xe1\\xbb\\x93m': <gensim.models.word2vec.Vocab at 0x7efb971dc710>,\n",
       " '220': <gensim.models.word2vec.Vocab at 0x7efb965d8f10>,\n",
       " 'd\\xe1\\xbb\\x93i d\\xc3\\xa0o': <gensim.models.word2vec.Vocab at 0x7efb971f4150>,\n",
       " '\\xc4\\x91\\xe1\\xbb\\x99ng': <gensim.models.word2vec.Vocab at 0x7efbb56c8990>,\n",
       " 'ch\\xc6\\xb0\\xe1\\xbb\\x9bc': <gensim.models.word2vec.Vocab at 0x7efbb56c8ad0>,\n",
       " 'tuy\\xe1\\xba\\xbft s\\xc6\\xb0\\xc6\\xa1ng': <gensim.models.word2vec.Vocab at 0x7efb9c0e7710>,\n",
       " 'n\\xe1\\xbb\\xa9c': <gensim.models.word2vec.Vocab at 0x7efb96654550>,\n",
       " 'l\\xc3\\xa0m': <gensim.models.word2vec.Vocab at 0x7efb96654590>,\n",
       " 'ng\\xe1\\xbb\\x93i': <gensim.models.word2vec.Vocab at 0x7efb966545d0>,\n",
       " 'qu\\xc3\\xaan': <gensim.models.word2vec.Vocab at 0x7efb971d1090>,\n",
       " '150': <gensim.models.word2vec.Vocab at 0x7efb9c0e7f10>,\n",
       " '155': <gensim.models.word2vec.Vocab at 0x7efb97204690>,\n",
       " 'c\\xc3\\xb3 ng\\xc6\\xb0\\xe1\\xbb\\x9di': <gensim.models.word2vec.Vocab at 0x7efb971ccc90>,\n",
       " 'ho\\xe1\\xba\\xa1n th\\xc6\\xb0': <gensim.models.word2vec.Vocab at 0x7efb971d10d0>,\n",
       " 'khi': <gensim.models.word2vec.Vocab at 0x7efb9c0f2f50>,\n",
       " 'd\\xe1\\xba\\xb7m m\\xe1\\xbb\\x99t': <gensim.models.word2vec.Vocab at 0x7efb9721aad0>,\n",
       " 'th\\xc3\\xb3i': <gensim.models.word2vec.Vocab at 0x7efb9c03f490>,\n",
       " 'n\\xe1\\xbb\\x97i m\\xc3\\xacnh': <gensim.models.word2vec.Vocab at 0x7efb971c6490>,\n",
       " 'kh\\xc3\\xa9o thay': <gensim.models.word2vec.Vocab at 0x7efb9721ab10>,\n",
       " '\\xc4\\x91\\xc6\\xb0\\xc6\\xa1ng': <gensim.models.word2vec.Vocab at 0x7efb9721ab50>,\n",
       " 'tin': <gensim.models.word2vec.Vocab at 0x7efb971d1110>,\n",
       " 'm\\xe1\\xba\\xa5y l\\xe1\\xbb\\x9di': <gensim.models.word2vec.Vocab at 0x7efb9c03fc90>,\n",
       " 'th\\xc3\\xb3t': <gensim.models.word2vec.Vocab at 0x7efbb5950c90>,\n",
       " 'toan': <gensim.models.word2vec.Vocab at 0x7efb971d1150>,\n",
       " 'anh h\\xc3\\xb9ng': <gensim.models.word2vec.Vocab at 0x7efb971dc790>,\n",
       " 'm\\xe1\\xbb\\x99t n\\xc6\\xa1i': <gensim.models.word2vec.Vocab at 0x7efb97204ed0>,\n",
       " 'c\\xc3\\xb2n chi': <gensim.models.word2vec.Vocab at 0x7efbb5950f90>,\n",
       " 'n\\xe1\\xba\\xbbo xa': <gensim.models.word2vec.Vocab at 0x7efb966546d0>,\n",
       " '080': <gensim.models.word2vec.Vocab at 0x7efb9721abd0>,\n",
       " 'th\\xe1\\xbb\\x83': <gensim.models.word2vec.Vocab at 0x7efb9721ac10>,\n",
       " 'thi\\xe1\\xba\\xbft': <gensim.models.word2vec.Vocab at 0x7efb96654710>,\n",
       " 'thi\\xe1\\xba\\xbfu': <gensim.models.word2vec.Vocab at 0x7efb96654750>,\n",
       " 'n\\xc3\\xb3i': <gensim.models.word2vec.Vocab at 0x7efb96654790>,\n",
       " 'c\\xe1\\xba\\xady': <gensim.models.word2vec.Vocab at 0x7efb971d1190>,\n",
       " 'n\\xc3\\xb3c': <gensim.models.word2vec.Vocab at 0x7efb966547d0>,\n",
       " 'gi\\xc3\\xa0ng': <gensim.models.word2vec.Vocab at 0x7efb9721ac90>,\n",
       " 'vu\\xc3\\xb4ng tr\\xc3\\xb2n': <gensim.models.word2vec.Vocab at 0x7efb971d11d0>,\n",
       " 'ch\\xc3\\xacm': <gensim.models.word2vec.Vocab at 0x7efb96654810>,\n",
       " 'mai sau': <gensim.models.word2vec.Vocab at 0x7efb971d1210>,\n",
       " 'phong': <gensim.models.word2vec.Vocab at 0x7efb971c6510>,\n",
       " 'h\\xc3\\xa0ng': <gensim.models.word2vec.Vocab at 0x7efb9721ad10>,\n",
       " 'm\\xe1\\xba\\xa1ch': <gensim.models.word2vec.Vocab at 0x7efb9721ad50>,\n",
       " 'th\\xe1\\xba\\xa5y b\\xc3\\xb3ng': <gensim.models.word2vec.Vocab at 0x7efbb5950e50>,\n",
       " 'h\\xe1\\xbb\\x8fi l\\xe1\\xba\\xa1i': <gensim.models.word2vec.Vocab at 0x7efb971f4e10>,\n",
       " '\\xc4\\x90\\xc3\\xa0o': <gensim.models.word2vec.Vocab at 0x7efb96654890>,\n",
       " '\\xc4\\x91ang': <gensim.models.word2vec.Vocab at 0x7efb966548d0>,\n",
       " 't\\xc6\\xb0\\xe1\\xbb\\x9fng': <gensim.models.word2vec.Vocab at 0x7efb971d1250>,\n",
       " 'l\\xe1\\xba\\xa1i c\\xc3\\xb2n': <gensim.models.word2vec.Vocab at 0x7efb971dc350>,\n",
       " 'ngh\\xc4\\xa9a \\xc4\\x91\\xc3\\xa8o': <gensim.models.word2vec.Vocab at 0x7efbb5950650>,\n",
       " 'm\\xe1\\xbb\\x9bi d\\xe1\\xba\\xa1y': <gensim.models.word2vec.Vocab at 0x7efb971d1290>,\n",
       " 's\\xe1\\xba\\xa5m s\\xc3\\xa9t': <gensim.models.word2vec.Vocab at 0x7efb96654910>,\n",
       " 'm\\xe1\\xba\\xb7c n\\xc3\\xa0ng': <gensim.models.word2vec.Vocab at 0x7efb971dc5d0>,\n",
       " 'v\\xe1\\xba\\xb9n': <gensim.models.word2vec.Vocab at 0x7efb971ed5d0>,\n",
       " 'nh\\xe1\\xba\\xb7t': <gensim.models.word2vec.Vocab at 0x7efb9720fa50>,\n",
       " 't\\xc6\\xb0\\xe1\\xbb\\x9bng': <gensim.models.word2vec.Vocab at 0x7efb96654950>,\n",
       " 'm\\xc3\\xacnh l\\xc3\\xa0': <gensim.models.word2vec.Vocab at 0x7efb971cc910>,\n",
       " '\\xc4\\x91ong': <gensim.models.word2vec.Vocab at 0x7efb9721add0>,\n",
       " '0': <gensim.models.word2vec.Vocab at 0x7efb9721ae10>,\n",
       " 'chi\\xe1\\xbb\\x81u l\\xc3\\xb2ng': <gensim.models.word2vec.Vocab at 0x7efbb54ff250>,\n",
       " 'th\\xe1\\xbb\\x95': <gensim.models.word2vec.Vocab at 0x7efb971e71d0>,\n",
       " 't\\xc6\\xb0\\xe1\\xbb\\x9dng': <gensim.models.word2vec.Vocab at 0x7efb9c061fd0>,\n",
       " 'd\\xc3\\xb2': <gensim.models.word2vec.Vocab at 0x7efb9721ae90>,\n",
       " 'ng\\xc3\\xa2y th\\xc6\\xa1': <gensim.models.word2vec.Vocab at 0x7efb971dc850>,\n",
       " '\\xc4\\x90i': <gensim.models.word2vec.Vocab at 0x7efb97204250>,\n",
       " 's\\xe1\\xbb\\x9bm khuya': <gensim.models.word2vec.Vocab at 0x7efb9c061b50>,\n",
       " 'h\\xe1\\xba\\xadu': <gensim.models.word2vec.Vocab at 0x7efb971d12d0>,\n",
       " 'c\\xe1\\xbb\\xa7a': <gensim.models.word2vec.Vocab at 0x7efb9721af10>,\n",
       " 'ng\\xc3\\xa0nh': <gensim.models.word2vec.Vocab at 0x7efb9721af50>,\n",
       " '\\xc3\\xa2u c\\xc5\\xa9ng': <gensim.models.word2vec.Vocab at 0x7efb971d1350>,\n",
       " 'ph\\xc3\\xadm \\xc4\\x91\\xc3\\xa0n': <gensim.models.word2vec.Vocab at 0x7efb9c061c10>,\n",
       " 'ma': <gensim.models.word2vec.Vocab at 0x7efb971c6590>,\n",
       " 'v\\xe1\\xba\\xady': <gensim.models.word2vec.Vocab at 0x7efb966549d0>,\n",
       " 's\\xe1\\xba\\xafm s\\xe1\\xbb\\xada': <gensim.models.word2vec.Vocab at 0x7efb97220ed0>,\n",
       " '\\xc4\\x91\\xe1\\xba\\xa7m': <gensim.models.word2vec.Vocab at 0x7efb96654a10>,\n",
       " 't\\xe1\\xbb\\x9b': <gensim.models.word2vec.Vocab at 0x7efb971c1a10>,\n",
       " 'xa g\\xe1\\xba\\xa7n': <gensim.models.word2vec.Vocab at 0x7efb971ccd10>,\n",
       " 'v\\xe1\\xba\\xadt': <gensim.models.word2vec.Vocab at 0x7efb96654a50>,\n",
       " '\\xe1\\xba\\xa7m \\xe1\\xba\\xa7m': <gensim.models.word2vec.Vocab at 0x7efb96654a90>,\n",
       " '\\xc4\\x91\\xe1\\xba\\xa7y': <gensim.models.word2vec.Vocab at 0x7efb96654ad0>,\n",
       " 'chi\\xe1\\xba\\xbfc thoa': <gensim.models.word2vec.Vocab at 0x7efb9c061a50>,\n",
       " 'ri\\xc3\\xaang': <gensim.models.word2vec.Vocab at 0x7efb9c061ad0>,\n",
       " '\\xc4\\x91\\xe1\\xba\\xa7u': <gensim.models.word2vec.Vocab at 0x7efb96654b50>,\n",
       " 'ti\\xe1\\xba\\xbfng ng\\xc6\\xb0\\xe1\\xbb\\x9di': <gensim.models.word2vec.Vocab at 0x7efb9c061890>,\n",
       " 'n\\xc3\\xa0y th\\xc3\\xac': <gensim.models.word2vec.Vocab at 0x7efb971f9a10>,\n",
       " 'non s\\xc3\\xb4ng': <gensim.models.word2vec.Vocab at 0x7efb9c070250>,\n",
       " 't\\xe1\\xbb\\xad sinh': <gensim.models.word2vec.Vocab at 0x7efb9721af90>,\n",
       " 'b\\xc3\\xa2y gi\\xe1\\xbb\\x9d': <gensim.models.word2vec.Vocab at 0x7efb96654b90>,\n",
       " 'hai em': <gensim.models.word2vec.Vocab at 0x7efb96654bd0>,\n",
       " '\\xc6\\xb0\\xe1\\xbb\\x9bc': <gensim.models.word2vec.Vocab at 0x7efb9c0618d0>,\n",
       " 'v\\xc3\\xac t\\xc3\\xacnh': <gensim.models.word2vec.Vocab at 0x7efb971edad0>,\n",
       " 'tho\\xe1\\xba\\xaft \\xc4\\x91\\xc3\\xa3': <gensim.models.word2vec.Vocab at 0x7efb9c061490>,\n",
       " 'm\\xc3\\xacnh': <gensim.models.word2vec.Vocab at 0x7efb97225510>,\n",
       " '\\xc4\\x91\\xc3\\xa3 d\\xc3\\xa0nh': <gensim.models.word2vec.Vocab at 0x7efb971e2550>,\n",
       " 'qu\\xe1\\xba\\xbf': <gensim.models.word2vec.Vocab at 0x7efb97220090>,\n",
       " 'r\\xe1\\xbb\\xa5ng r\\xe1\\xbb\\x9di': <gensim.models.word2vec.Vocab at 0x7efb9c0614d0>,\n",
       " 'nh\\xe1\\xbb\\x8f': <gensim.models.word2vec.Vocab at 0x7efb971e2750>,\n",
       " '\\xc4\\x90\\xe1\\xba\\xa1m': <gensim.models.word2vec.Vocab at 0x7efb9c061510>,\n",
       " '\\xc4\\x90\\xe1\\xba\\xa1o': <gensim.models.word2vec.Vocab at 0x7efb9c0613d0>,\n",
       " '\\xc4\\x90\\xe1\\xba\\xa1i': <gensim.models.word2vec.Vocab at 0x7efb9c061410>,\n",
       " 'm\\xc6\\xb0\\xe1\\xbb\\x9di ph\\xe1\\xba\\xa7n': <gensim.models.word2vec.Vocab at 0x7efb9c061250>,\n",
       " 'v\\xc6\\xa1': <gensim.models.word2vec.Vocab at 0x7efb971d1450>,\n",
       " 'bi': <gensim.models.word2vec.Vocab at 0x7efb971e7fd0>,\n",
       " 'nh\\xe1\\xbb\\x9d': <gensim.models.word2vec.Vocab at 0x7efb96654c50>,\n",
       " 'b\\xc6\\xb0\\xe1\\xbb\\x9bc ra': <gensim.models.word2vec.Vocab at 0x7efb96654c90>,\n",
       " 'nh\\xe1\\xbb\\x9b': <gensim.models.word2vec.Vocab at 0x7efb96654cd0>,\n",
       " 'b\\xe1\\xba\\xa1ch': <gensim.models.word2vec.Vocab at 0x7efb97220110>,\n",
       " 'h\\xe1\\xbb\\xafu t\\xc3\\xacnh': <gensim.models.word2vec.Vocab at 0x7efb9c061290>,\n",
       " 'nga': <gensim.models.word2vec.Vocab at 0x7efb9720a190>,\n",
       " 'nh\\xe1\\xbb\\xa7': <gensim.models.word2vec.Vocab at 0x7efb96653190>,\n",
       " 'm\\xe1\\xbb\\x9bi gi\\xc3\\xa3i': <gensim.models.word2vec.Vocab at 0x7efb96654d50>,\n",
       " 'v\\xe1\\xbb\\xafng': <gensim.models.word2vec.Vocab at 0x7efb97220150>,\n",
       " 'ho\\xc3\\xa0n': <gensim.models.word2vec.Vocab at 0x7efb971c6610>,\n",
       " 'c\\xe1\\xbb\\xa9u': <gensim.models.word2vec.Vocab at 0x7efb9722b990>,\n",
       " 'l\\xc3\\xa0 duy\\xc3\\xaan': <gensim.models.word2vec.Vocab at 0x7efb97220190>,\n",
       " 'b\\xe1\\xbb\\x91n': <gensim.models.word2vec.Vocab at 0x7efb9c0610d0>,\n",
       " 't\\xe1\\xbb\\xab r\\xe1\\xba\\xb1ng': <gensim.models.word2vec.Vocab at 0x7efb971ff690>,\n",
       " 'h\\xe1\\xba\\xa3i': <gensim.models.word2vec.Vocab at 0x7efb972201d0>,\n",
       " 'v\\xe1\\xbb\\x91n': <gensim.models.word2vec.Vocab at 0x7efb971d1550>,\n",
       " 'm\\xc6\\xb0\\xe1\\xbb\\x9di l\\xc4\\x83m': <gensim.models.word2vec.Vocab at 0x7efb966451d0>,\n",
       " 'ch\\xc3\\xa0ng c\\xc5\\xa9ng': <gensim.models.word2vec.Vocab at 0x7efb97220210>,\n",
       " '\\xc4\\x91\\xe1\\xba\\xbfn th\\xe1\\xba\\xbf': <gensim.models.word2vec.Vocab at 0x7efb96654190>,\n",
       " 'l\\xc3\\xa3o': <gensim.models.word2vec.Vocab at 0x7efb971e2d50>,\n",
       " 'tri\\xe1\\xbb\\x81u': <gensim.models.word2vec.Vocab at 0x7efb96654d90>,\n",
       " 'c\\xe1\\xba\\xa3nh': <gensim.models.word2vec.Vocab at 0x7efb96654dd0>,\n",
       " '\\xc4\\x91i\\xe1\\xbb\\x81u': <gensim.models.word2vec.Vocab at 0x7efb971d15d0>,\n",
       " 'm\\xe1\\xbb\\x99t l\\xe1\\xbb\\x9di': <gensim.models.word2vec.Vocab at 0x7efb971d1610>,\n",
       " 'n\\xc3\\xa0ng \\xc4\\x91\\xc3\\xa0': <gensim.models.word2vec.Vocab at 0x7efb96654e10>,\n",
       " 'n\\xc3\\xa0ng \\xc4\\x91\\xc3\\xa3': <gensim.models.word2vec.Vocab at 0x7efb96654e50>,\n",
       " 'li\\xe1\\xbb\\x81n': <gensim.models.word2vec.Vocab at 0x7efb971d1650>,\n",
       " 'su\\xe1\\xbb\\x91i': <gensim.models.word2vec.Vocab at 0x7efb9c061050>,\n",
       " 'x\\xc6\\xb0a \\xc4\\x91\\xc3\\xa3': <gensim.models.word2vec.Vocab at 0x7efb971e7510>,\n",
       " 'k\\xe1\\xba\\xbb l\\xe1\\xba\\xa1i': <gensim.models.word2vec.Vocab at 0x7efb971d1690>,\n",
       " '\\xc4\\x91\\xe1\\xbb\\x9di': <gensim.models.word2vec.Vocab at 0x7efb97220290>,\n",
       " 'm\\xe1\\xbb\\x91i': <gensim.models.word2vec.Vocab at 0x7efbb57d4190>,\n",
       " 'th\\xe1\\xba\\xafm': <gensim.models.word2vec.Vocab at 0x7efb971d1e50>,\n",
       " 'su\\xe1\\xbb\\x91t': <gensim.models.word2vec.Vocab at 0x7efbb57d4990>,\n",
       " '\\xc4\\x90\\xc3\\xa0nh l\\xc3\\xb2ng': <gensim.models.word2vec.Vocab at 0x7efb971d16d0>,\n",
       " 'b\\xc3\\xb3': <gensim.models.word2vec.Vocab at 0x7efb971cce90>,\n",
       " 'li\\xe1\\xbb\\x81u': <gensim.models.word2vec.Vocab at 0x7efb971d1710>,\n",
       " 'ki\\xe1\\xbb\\x81u': <gensim.models.word2vec.Vocab at 0x7efb96654f10>,\n",
       " 'ti\\xe1\\xba\\xbfc thay': <gensim.models.word2vec.Vocab at 0x7efb971dc990>,\n",
       " 'm\\xe1\\xbb\\xabng': <gensim.models.word2vec.Vocab at 0x7efb971d1750>,\n",
       " 'tranh': <gensim.models.word2vec.Vocab at 0x7efb96654f50>,\n",
       " 'cay': <gensim.models.word2vec.Vocab at 0x7efb96654f90>,\n",
       " 'v\\xc3\\xa0o t\\xe1\\xba\\xadn': <gensim.models.word2vec.Vocab at 0x7efb971d1790>,\n",
       " 'ph\\xe1\\xba\\xadn con': <gensim.models.word2vec.Vocab at 0x7efb971d17d0>,\n",
       " 'trang': <gensim.models.word2vec.Vocab at 0x7efb96654fd0>,\n",
       " 'm\\xe1\\xba\\xa3nh': <gensim.models.word2vec.Vocab at 0x7efb971d1810>,\n",
       " 'cao': <gensim.models.word2vec.Vocab at 0x7efb96610050>,\n",
       " 'can': <gensim.models.word2vec.Vocab at 0x7efb96610090>,\n",
       " 'cam': <gensim.models.word2vec.Vocab at 0x7efb966100d0>,\n",
       " '\\xe1\\xba\\xa5y m\\xe1\\xbb\\x9bi': <gensim.models.word2vec.Vocab at 0x7efb9722ba90>,\n",
       " '\\xc4\\x90em': <gensim.models.word2vec.Vocab at 0x7efb971c6190>,\n",
       " 'm\\xe1\\xba\\xa3ng': <gensim.models.word2vec.Vocab at 0x7efb971d1850>,\n",
       " 'g\\xc3\\xa2y': <gensim.models.word2vec.Vocab at 0x7efbb57fb450>,\n",
       " '\\xc4\\x91\\xe1\\xbb\\x81n b\\xe1\\xbb\\x93i': <gensim.models.word2vec.Vocab at 0x7efb971d1890>,\n",
       " 'm\\xe1\\xbb\\x87nh': <gensim.models.word2vec.Vocab at 0x7efb96610110>,\n",
       " '\\xc4\\x91\\xc6\\xb0\\xe1\\xbb\\xa3c m\\xe1\\xbb\\x99t': <gensim.models.word2vec.Vocab at 0x7efbb57fb610>,\n",
       " 'ngay': <gensim.models.word2vec.Vocab at 0x7efbb57fbe10>,\n",
       " 'chim': <gensim.models.word2vec.Vocab at 0x7efb96610150>,\n",
       " 'b\\xc3\\xacnh': <gensim.models.word2vec.Vocab at 0x7efb971d18d0>,\n",
       " '235': <gensim.models.word2vec.Vocab at 0x7efb97204610>,\n",
       " 'ngh\\xc4\\xa9 r\\xe1\\xba\\xb1ng': <gensim.models.word2vec.Vocab at 0x7efbb5970410>,\n",
       " '230': <gensim.models.word2vec.Vocab at 0x7efbb5733150>,\n",
       " 'ph\\xe1\\xba\\xa3i bu\\xe1\\xbb\\x95i': <gensim.models.word2vec.Vocab at 0x7efbb5733950>,\n",
       " 'h\\xe1\\xbb\\x8dp': <gensim.models.word2vec.Vocab at 0x7efb97220350>,\n",
       " 'v\\xc3\\xa0i': <gensim.models.word2vec.Vocab at 0x7efb971d1950>,\n",
       " 't\\xc3\\xb4i \\xc4\\x91\\xc3\\xb2i': <gensim.models.word2vec.Vocab at 0x7efbb5715190>,\n",
       " 'ch\\xc3\\xadn': <gensim.models.word2vec.Vocab at 0x7efb971d19d0>,\n",
       " '1': <gensim.models.word2vec.Vocab at 0x7efb971d1a10>,\n",
       " 'r\\xc3\\xacu': <gensim.models.word2vec.Vocab at 0x7efb9720a250>,\n",
       " 'h\\xe1\\xbb\\x8da': <gensim.models.word2vec.Vocab at 0x7efb972203d0>,\n",
       " 'cho \\xc4\\x91\\xe1\\xba\\xbfn': <gensim.models.word2vec.Vocab at 0x7efb97215b10>,\n",
       " 'ph\\xc3\\xb3': <gensim.models.word2vec.Vocab at 0x7efb972048d0>,\n",
       " 'r\\xe1\\xbb\\x93i': <gensim.models.word2vec.Vocab at 0x7efb96610210>,\n",
       " 'ph\\xc3\\xb9': <gensim.models.word2vec.Vocab at 0x7efb97220410>,\n",
       " 'bi\\xe1\\xba\\xbft c\\xc3\\xb3': <gensim.models.word2vec.Vocab at 0x7efbb57152d0>,\n",
       " 't\\xe1\\xbb\\xa9c': <gensim.models.word2vec.Vocab at 0x7efb96610250>,\n",
       " '145': <gensim.models.word2vec.Vocab at 0x7efb97220450>,\n",
       " 'mau': <gensim.models.word2vec.Vocab at 0x7efb97220490>,\n",
       " '140': <gensim.models.word2vec.Vocab at 0x7efb972204d0>,\n",
       " '\\xc4\\x91\\xc3\\xa2u \\xc4\\x91\\xc3\\xa3': <gensim.models.word2vec.Vocab at 0x7efb96610290>,\n",
       " '\\xc4\\x91ao': <gensim.models.word2vec.Vocab at 0x7efbb5715990>,\n",
       " 'tr\\xc6\\xb0\\xe1\\xbb\\x9bng': <gensim.models.word2vec.Vocab at 0x7efb971e7490>,\n",
       " '\\xc4\\x91au': <gensim.models.word2vec.Vocab at 0x7efbb5737ed0>,\n",
       " 'mai': <gensim.models.word2vec.Vocab at 0x7efb97220550>,\n",
       " 'n\\xc4\\x83ng': <gensim.models.word2vec.Vocab at 0x7efb966102d0>,\n",
       " 'n\\xe1\\xbb\\x97i l\\xc3\\xb2ng': <gensim.models.word2vec.Vocab at 0x7efb971f9d50>,\n",
       " 'b\\xc3\\xa0ng': <gensim.models.word2vec.Vocab at 0x7efb971eda90>,\n",
       " 'n\\xc3\\xb4': <gensim.models.word2vec.Vocab at 0x7efb97220590>,\n",
       " 'so': <gensim.models.word2vec.Vocab at 0x7efbb57376d0>,\n",
       " 'th\\xc6\\xb0\\xc6\\xa1ng \\xc3\\xb4i': <gensim.models.word2vec.Vocab at 0x7efb96610310>,\n",
       " 'b\\xc3\\xa2ng': <gensim.models.word2vec.Vocab at 0x7efbb56791d0>,\n",
       " 'sa': <gensim.models.word2vec.Vocab at 0x7efbb56799d0>,\n",
       " 'ghi': <gensim.models.word2vec.Vocab at 0x7efb96610350>,\n",
       " 'qu\\xc3\\xa0ng': <gensim.models.word2vec.Vocab at 0x7efb97220610>,\n",
       " '090': <gensim.models.word2vec.Vocab at 0x7efb9720a1d0>,\n",
       " '095': <gensim.models.word2vec.Vocab at 0x7efbb565b990>,\n",
       " 'm\\xe1\\xba\\xa5y ng\\xc6\\xb0\\xe1\\xbb\\x9di': <gensim.models.word2vec.Vocab at 0x7efb966103d0>,\n",
       " 't\\xe1\\xba\\xa1i l\\xc3\\xb2ng': <gensim.models.word2vec.Vocab at 0x7efb97220650>,\n",
       " 't\\xc6\\xb0\\xc6\\xa1ng ph\\xc3\\xb9ng': <gensim.models.word2vec.Vocab at 0x7efb96610410>,\n",
       " 'gi\\xc3\\xa1': <gensim.models.word2vec.Vocab at 0x7efbb565b190>,\n",
       " 'gi\\xc3\\xa0': <gensim.models.word2vec.Vocab at 0x7efbb565b7d0>,\n",
       " 'b\\xe1\\xbb\\x81 n\\xc3\\xa0o': <gensim.models.word2vec.Vocab at 0x7efb9720a490>,\n",
       " 'ch\\xe1\\xbb\\xa3t t\\xe1\\xbb\\x89nh': <gensim.models.word2vec.Vocab at 0x7efb971ccf10>,\n",
       " 'c\\xc3\\xa0ng ngh\\xc4\\xa9': <gensim.models.word2vec.Vocab at 0x7efb96610490>,\n",
       " 'thang': <gensim.models.word2vec.Vocab at 0x7efb97220710>,\n",
       " '\\xc3\\xa2n': <gensim.models.word2vec.Vocab at 0x7efb965d8090>,\n",
       " '\\xc3\\xa2m': <gensim.models.word2vec.Vocab at 0x7efb965d8110>,\n",
       " 'nh\\xe1\\xba\\xb9': <gensim.models.word2vec.Vocab at 0x7efb971eddd0>,\n",
       " 'gi\\xc3\\xb3': <gensim.models.word2vec.Vocab at 0x7efb965d8190>,\n",
       " 'c\\xc3\\xa1nh': <gensim.models.word2vec.Vocab at 0x7efb96610510>,\n",
       " 'b\\xe1\\xba\\xa3y': <gensim.models.word2vec.Vocab at 0x7efb9720a5d0>,\n",
       " '\\xc3\\xa2u': <gensim.models.word2vec.Vocab at 0x7efb965d8210>,\n",
       " 'c\\xe1\\xba\\xa3': <gensim.models.word2vec.Vocab at 0x7efb96610550>,\n",
       " 'non': <gensim.models.word2vec.Vocab at 0x7efb96610590>,\n",
       " 's\\xc3\\xa9t': <gensim.models.word2vec.Vocab at 0x7efb9720a710>,\n",
       " 'h\\xc3\\xacnh': <gensim.models.word2vec.Vocab at 0x7efb9720a790>,\n",
       " '60 m\\xe1\\xbb\\x99t': <gensim.models.word2vec.Vocab at 0x7efb966105d0>,\n",
       " '\\xc4\\x91\\xc3\\xa0i': <gensim.models.word2vec.Vocab at 0x7efb971dca90>,\n",
       " 'tho\\xe1\\xba\\xa3ng': <gensim.models.word2vec.Vocab at 0x7efb97220810>,\n",
       " 'ch\\xe1\\xbb\\x8bu': <gensim.models.word2vec.Vocab at 0x7efb96610650>,\n",
       " 'gi\\xe1\\xbb\\x91ng': <gensim.models.word2vec.Vocab at 0x7efb965d8390>,\n",
       " 'ra uy': <gensim.models.word2vec.Vocab at 0x7efb971ccf90>,\n",
       " 'v\\xc3\\xac t\\xc3\\xb4i': <gensim.models.word2vec.Vocab at 0x7efb971f2450>,\n",
       " '\\xc4\\x91\\xc3\\xa0o': <gensim.models.word2vec.Vocab at 0x7efb971dcad0>,\n",
       " 'em': <gensim.models.word2vec.Vocab at 0x7efb96610690>,\n",
       " 'm\\xc3\\xb4n': <gensim.models.word2vec.Vocab at 0x7efb965d8490>,\n",
       " 'tr\\xc3\\xa2m': <gensim.models.word2vec.Vocab at 0x7efb966106d0>,\n",
       " 'ph\\xc3\\xb2ng': <gensim.models.word2vec.Vocab at 0x7efb96653150>,\n",
       " 'nh\\xe1\\xba\\xafn': <gensim.models.word2vec.Vocab at 0x7efb965d8510>,\n",
       " 'tr\\xc3\\xacnh': <gensim.models.word2vec.Vocab at 0x7efb97220890>,\n",
       " 'm\\xe1\\xbb\\x99t l\\xc3\\xa0': <gensim.models.word2vec.Vocab at 0x7efb971d1ad0>,\n",
       " 'k\\xc3\\xa9o c\\xe1\\xbb\\x9d': <gensim.models.word2vec.Vocab at 0x7efb96610710>,\n",
       " 'b\\xc3\\xa0 c\\xc3\\xb9ng': <gensim.models.word2vec.Vocab at 0x7efb965d8590>,\n",
       " 'tr\\xc3\\xa2u': <gensim.models.word2vec.Vocab at 0x7efb96610750>,\n",
       " 'th\\xc3\\xac th\\xc3\\xb4i': <gensim.models.word2vec.Vocab at 0x7efb971d7f10>,\n",
       " '\\xc4\\x90\\xc6\\xb0\\xe1\\xbb\\xa3c': <gensim.models.word2vec.Vocab at 0x7efb965d8690>,\n",
       " 'x\\xc3\\xb3t': <gensim.models.word2vec.Vocab at 0x7efb972208d0>,\n",
       " 'l\\xe1\\xbb\\x91i': <gensim.models.word2vec.Vocab at 0x7efb971d1b10>,\n",
       " 'm\\xe1\\xbb\\x99t ch\\xe1\\xbb\\xaf': <gensim.models.word2vec.Vocab at 0x7efb96610790>,\n",
       " 'n\\xc3\\xa0o th\\xe1\\xba\\xa5y': <gensim.models.word2vec.Vocab at 0x7efb97220910>,\n",
       " 'trong ngo\\xc3\\xa0i': <gensim.models.word2vec.Vocab at 0x7efb971d1b50>,\n",
       " 'b\\xe1\\xba\\xadc': <gensim.models.word2vec.Vocab at 0x7efb96610810>,\n",
       " 'thong': <gensim.models.word2vec.Vocab at 0x7efb96610850>,\n",
       " 'l\\xe1\\xba\\xa1i mang': <gensim.models.word2vec.Vocab at 0x7efb9720f7d0>,\n",
       " 'm\\xe1\\xbb\\x99t thi\\xc3\\xaan': <gensim.models.word2vec.Vocab at 0x7efb971d1bd0>,\n",
       " '\\xc4\\x91\\xc3\\xa3 m\\xe1\\xba\\xafc': <gensim.models.word2vec.Vocab at 0x7efb971edb90>,\n",
       " 'n\\xe1\\xba\\xbft': <gensim.models.word2vec.Vocab at 0x7efb965d8810>,\n",
       " 'thu\\xe1\\xba\\xadn': <gensim.models.word2vec.Vocab at 0x7efb971dca50>,\n",
       " 'kh\\xc3\\xbac': <gensim.models.word2vec.Vocab at 0x7efb97220950>,\n",
       " 'ph\\xe1\\xba\\xa7n': <gensim.models.word2vec.Vocab at 0x7efb965d8890>,\n",
       " 'ch\\xe1\\xba\\xa7y': <gensim.models.word2vec.Vocab at 0x7efb9721a8d0>,\n",
       " 'chi\\xe1\\xba\\xbfu': <gensim.models.word2vec.Vocab at 0x7efb97220990>,\n",
       " 'th\\xe1\\xba\\xa5y m\\xe1\\xba\\xb7t': <gensim.models.word2vec.Vocab at 0x7efbb563dd10>,\n",
       " '\\xc4\\x90\\xc3\\xaam ng\\xc3\\xa0y': <gensim.models.word2vec.Vocab at 0x7efb966108d0>,\n",
       " 'chi\\xe1\\xba\\xbfn': <gensim.models.word2vec.Vocab at 0x7efb972209d0>,\n",
       " 'chi\\xe1\\xba\\xbfc': <gensim.models.word2vec.Vocab at 0x7efb97220a10>,\n",
       " 'ra tu\\xe1\\xbb\\x93ng': <gensim.models.word2vec.Vocab at 0x7efb96610910>,\n",
       " 'tu\\xc3\\xb4n': <gensim.models.word2vec.Vocab at 0x7efb965d8910>,\n",
       " 't\\xe1\\xbb\\x89nh ra': <gensim.models.word2vec.Vocab at 0x7efb96610950>,\n",
       " 'l\\xe1\\xba\\xbd': <gensim.models.word2vec.Vocab at 0x7efb9664fd10>,\n",
       " 'n\\xc3\\xa0ng v\\xc3\\xa0o': <gensim.models.word2vec.Vocab at 0x7efb965d8990>,\n",
       " 'xa': <gensim.models.word2vec.Vocab at 0x7efb96610990>,\n",
       " 'ong': <gensim.models.word2vec.Vocab at 0x7efb965d8a10>,\n",
       " 'd\\xe1\\xba\\xadp d\\xc3\\xacu': <gensim.models.word2vec.Vocab at 0x7efb971d1c10>,\n",
       " 'xe': <gensim.models.word2vec.Vocab at 0x7efb966109d0>,\n",
       " 'v\\xe1\\xba\\xa7ng tr\\xc4\\x83ng': <gensim.models.word2vec.Vocab at 0x7efb965d8a90>,\n",
       " 'r\\xc6\\xb0\\xe1\\xbb\\x9bc n\\xc3\\xa0ng': <gensim.models.word2vec.Vocab at 0x7efb965d8b10>,\n",
       " 'l\\xe1\\xbb\\xada': <gensim.models.word2vec.Vocab at 0x7efb96610a10>,\n",
       " 'tu\\xe1\\xba\\xa7n': <gensim.models.word2vec.Vocab at 0x7efb965d8b90>,\n",
       " 's\\xc6\\xa1n': <gensim.models.word2vec.Vocab at 0x7efb96610a50>,\n",
       " 'c\\xc3\\xb2n nhi\\xe1\\xbb\\x81u': <gensim.models.word2vec.Vocab at 0x7efb971d1c90>,\n",
       " 'n\\xc3\\xa0ng c\\xc3\\xa0ng': <gensim.models.word2vec.Vocab at 0x7efb97220b10>,\n",
       " 'c\\xc3\\xb2n xanh': <gensim.models.word2vec.Vocab at 0x7efb97220b50>,\n",
       " 'd\\xc3\\xb9 khi': <gensim.models.word2vec.Vocab at 0x7efb971d1cd0>,\n",
       " 'c\\xc3\\xb3 k\\xe1\\xba\\xbb': <gensim.models.word2vec.Vocab at 0x7efb965d8c10>,\n",
       " '2': <gensim.models.word2vec.Vocab at 0x7efb965d8c90>,\n",
       " 'n\\xc3\\xa0y ai': <gensim.models.word2vec.Vocab at 0x7efb965d8d10>,\n",
       " 'x\\xe1\\xbb\\xa9ng': <gensim.models.word2vec.Vocab at 0x7efb97215350>,\n",
       " 'l\\xe1\\xbb\\x8d': <gensim.models.word2vec.Vocab at 0x7efb971b63d0>,\n",
       " 'ng\\xe1\\xba\\xa5t': <gensim.models.word2vec.Vocab at 0x7efb97220b90>,\n",
       " 'tr\\xc3\\xb4ng': <gensim.models.word2vec.Vocab at 0x7efb97220bd0>,\n",
       " 'c\\xc6\\xb0\\xe1\\xbb\\x9di': <gensim.models.word2vec.Vocab at 0x7efb96610a90>,\n",
       " 'thay': <gensim.models.word2vec.Vocab at 0x7efb96610ad0>,\n",
       " 'm\\xe1\\xbb\\x99t': <gensim.models.word2vec.Vocab at 0x7efb971e7590>,\n",
       " 'kh\\xc3\\xb4ng': <gensim.models.word2vec.Vocab at 0x7efb971d1d50>,\n",
       " 'quan': <gensim.models.word2vec.Vocab at 0x7efbb5533d10>,\n",
       " 'chi\\xe1\\xbb\\x81u nh\\xc6\\xb0': <gensim.models.word2vec.Vocab at 0x7efb96610b50>,\n",
       " 'tr\\xe1\\xba\\xa3 ngh\\xc4\\xa9a': <gensim.models.word2vec.Vocab at 0x7efb965d8e90>,\n",
       " 'thai': <gensim.models.word2vec.Vocab at 0x7efb96610b90>,\n",
       " 'than': <gensim.models.word2vec.Vocab at 0x7efb96610bd0>,\n",
       " 'tham': <gensim.models.word2vec.Vocab at 0x7efb96610c10>,\n",
       " 'tr\\xc3\\xb4ng th\\xe1\\xba\\xa5y': <gensim.models.word2vec.Vocab at 0x7efb971d1d90>,\n",
       " '10': <gensim.models.word2vec.Vocab at 0x7efb97220c10>,\n",
       " 't\\xc3\\xacnh ri\\xc3\\xaang': <gensim.models.word2vec.Vocab at 0x7efb965d8f90>,\n",
       " 'l\\xe1\\xba\\xb7ng': <gensim.models.word2vec.Vocab at 0x7efb971c6b10>,\n",
       " 'mu\\xe1\\xbb\\x91i d\\xc6\\xb0a': <gensim.models.word2vec.Vocab at 0x7efb96610c50>,\n",
       " 's\\xc3\\xb3ng': <gensim.models.word2vec.Vocab at 0x7efb965e71d0>,\n",
       " 'l\\xe1\\xbb\\x85': <gensim.models.word2vec.Vocab at 0x7efb971b6450>,\n",
       " 't\\xc3\\xa0': <gensim.models.word2vec.Vocab at 0x7efb971b6490>,\n",
       " 'ng\\xe1\\xba\\xa9n ng\\xc6\\xa1': <gensim.models.word2vec.Vocab at 0x7efb96610c90>,\n",
       " 'c\\xc3\\xb3 \\xc4\\x91i\\xe1\\xbb\\x81u': <gensim.models.word2vec.Vocab at 0x7efb97220c90>,\n",
       " 'sai': <gensim.models.word2vec.Vocab at 0x7efb965e7050>,\n",
       " 'n\\xc3\\xa3o': <gensim.models.word2vec.Vocab at 0x7efb97215b90>,\n",
       " 'sao': <gensim.models.word2vec.Vocab at 0x7efb965e70d0>,\n",
       " 'san': <gensim.models.word2vec.Vocab at 0x7efb965e7150>,\n",
       " 'h\\xe1\\xba\\xbft ki\\xe1\\xba\\xbfp': <gensim.models.word2vec.Vocab at 0x7efbb588d8d0>,\n",
       " 'h\\xe1\\xba\\xa7u': <gensim.models.word2vec.Vocab at 0x7efb9722bc50>,\n",
       " 'anh': <gensim.models.word2vec.Vocab at 0x7efbb53c1d50>,\n",
       " 'say': <gensim.models.word2vec.Vocab at 0x7efbb588d850>,\n",
       " 'qu\\xc3\\xaa ng\\xc6\\xb0\\xe1\\xbb\\x9di': <gensim.models.word2vec.Vocab at 0x7efb97220cd0>,\n",
       " 'tr\\xe1\\xbb\\x91n': <gensim.models.word2vec.Vocab at 0x7efb96610cd0>,\n",
       " 'l\\xc6\\xb0u l\\xe1\\xba\\xa1c': <gensim.models.word2vec.Vocab at 0x7efb971d1e10>,\n",
       " '030': <gensim.models.word2vec.Vocab at 0x7efb971edcd0>,\n",
       " 'sau': <gensim.models.word2vec.Vocab at 0x7efbb588d110>,\n",
       " 'ch\\xe1\\xba\\xa1y': <gensim.models.word2vec.Vocab at 0x7efb97220d10>,\n",
       " 'ti\\xe1\\xbb\\x87n': <gensim.models.word2vec.Vocab at 0x7efb965f5c90>,\n",
       " 'v\\xc3\\xa0ng ch\\xc6\\xb0a': <gensim.models.word2vec.Vocab at 0x7efb965f5c50>,\n",
       " 'n\\xc3\\xb3i n\\xc4\\x83ng': <gensim.models.word2vec.Vocab at 0x7efbbf34fcd0>,\n",
       " 'n\\xc3\\xa0ng m\\xe1\\xbb\\x9bi': <gensim.models.word2vec.Vocab at 0x7efb96610d10>,\n",
       " 'ti\\xe1\\xbb\\x87c': <gensim.models.word2vec.Vocab at 0x7efb965f5bd0>,\n",
       " 'cho ta': <gensim.models.word2vec.Vocab at 0x7efb97220d50>,\n",
       " 'xu\\xc3\\xb4i': <gensim.models.word2vec.Vocab at 0x7efb96647d90>,\n",
       " '200': <gensim.models.word2vec.Vocab at 0x7efb97220d90>,\n",
       " 'ph\\xc3\\xa2n': <gensim.models.word2vec.Vocab at 0x7efb97220dd0>,\n",
       " '\\xc6\\xb0a': <gensim.models.word2vec.Vocab at 0x7efb965f5d90>,\n",
       " 'l\\xe1\\xba\\xa1i t\\xc3\\xacm': <gensim.models.word2vec.Vocab at 0x7efbb5843490>,\n",
       " 'l\\xc3\\xa2m': <gensim.models.word2vec.Vocab at 0x7efb96610d50>,\n",
       " 'l\\xc3\\xa2n': <gensim.models.word2vec.Vocab at 0x7efb96610d90>,\n",
       " 'l\\xc3\\xa2u': <gensim.models.word2vec.Vocab at 0x7efb96610dd0>,\n",
       " 't\\xc6\\xa1 duy\\xc3\\xaan': <gensim.models.word2vec.Vocab at 0x7efb96610e10>,\n",
       " 'ch\\xc3\\xaanh': <gensim.models.word2vec.Vocab at 0x7efb96610e90>,\n",
       " 'g\\xc6\\xb0\\xc6\\xa1ng trong': <gensim.models.word2vec.Vocab at 0x7efb965f5b50>,\n",
       " 'd\\xe1\\xba\\xa3i': <gensim.models.word2vec.Vocab at 0x7efbb5758710>,\n",
       " '\\xc4\\x91inh': <gensim.models.word2vec.Vocab at 0x7efb971dc250>,\n",
       " 'th\\xc4\\x83m': <gensim.models.word2vec.Vocab at 0x7efb971bbad0>,\n",
       " 'h\\xe1\\xba\\xb1ng': <gensim.models.word2vec.Vocab at 0x7efb96610ed0>,\n",
       " 'nghe n\\xc3\\xb3i': <gensim.models.word2vec.Vocab at 0x7efb97220e90>,\n",
       " 'ch\\xc3\\xa0o': <gensim.models.word2vec.Vocab at 0x7efb96616190>,\n",
       " 'm\\xe1\\xbb\\x8fng': <gensim.models.word2vec.Vocab at 0x7efb971d1050>,\n",
       " 'qu\\xe1\\xba\\xa3ng': <gensim.models.word2vec.Vocab at 0x7efb966169d0>,\n",
       " 'ch\\xe1\\xbb\\x91n n\\xc3\\xa0o': <gensim.models.word2vec.Vocab at 0x7efb9721a9d0>,\n",
       " 'ch\\xc3\\xa0y': <gensim.models.word2vec.Vocab at 0x7efb96616a50>,\n",
       " 'l\\xc6\\xb0ng': <gensim.models.word2vec.Vocab at 0x7efb971f9510>,\n",
       " 'qu\\xc3\\xa2n trung': <gensim.models.word2vec.Vocab at 0x7efb96616a10>,\n",
       " 'n\\xe1\\xbb\\x93ng': <gensim.models.word2vec.Vocab at 0x7efb96610f50>,\n",
       " 'b\\xe1\\xba\\xa5t k\\xe1\\xbb\\xb3': <gensim.models.word2vec.Vocab at 0x7efb96616a90>,\n",
       " 'giai': <gensim.models.word2vec.Vocab at 0x7efb96616990>,\n",
       " 'v\\xe1\\xba\\xaby v\\xc3\\xb9ng': <gensim.models.word2vec.Vocab at 0x7efb972202d0>,\n",
       " 'xu\\xe1\\xba\\xa5t': <gensim.models.word2vec.Vocab at 0x7efb96610f90>,\n",
       " 'khuy\\xc3\\xaan gi\\xe1\\xba\\xa3i': <gensim.models.word2vec.Vocab at 0x7efb971dcc10>,\n",
       " 'l\\xc3\\xa0 nh\\xc3\\xa0': <gensim.models.word2vec.Vocab at 0x7efb96616850>,\n",
       " 'ch\\xc3\\xbat': <gensim.models.word2vec.Vocab at 0x7efb9721aa50>,\n",
       " 'qu\\xe1\\xbb\\xb3nh': <gensim.models.word2vec.Vocab at 0x7efb96616910>,\n",
       " 'kh\\xe1\\xba\\xa5n': <gensim.models.word2vec.Vocab at 0x7efb96616890>,\n",
       " 'd\\xe1\\xbb\\xa9t': <gensim.models.word2vec.Vocab at 0x7efb97220f50>,\n",
       " 'th\\xe1\\xbb\\x8b phi': <gensim.models.word2vec.Vocab at 0x7efb971f4090>,\n",
       " 'ch\\xc3\\xbat l\\xc3\\xb2ng': <gensim.models.word2vec.Vocab at 0x7efb971f40d0>,\n",
       " 'ch\\xe1\\xbb\\x8b em': <gensim.models.word2vec.Vocab at 0x7efb96616790>,\n",
       " '\\xc4\\x91\\xe1\\xba\\xb7t': <gensim.models.word2vec.Vocab at 0x7efb97220fd0>,\n",
       " 'r\\xe1\\xbb\\x99ng': <gensim.models.word2vec.Vocab at 0x7efb971d1e90>,\n",
       " 'gi\\xe1\\xbb\\xa5c gi\\xc3\\xa3': <gensim.models.word2vec.Vocab at 0x7efb971d1ed0>,\n",
       " 'kh\\xe1\\xba\\xa5u': <gensim.models.word2vec.Vocab at 0x7efb9c048cd0>,\n",
       " '\\xc4\\x83n': <gensim.models.word2vec.Vocab at 0x7efb971bb7d0>,\n",
       " '\\xc4\\x90\\xc3\\xa3': <gensim.models.word2vec.Vocab at 0x7efb971f4110>,\n",
       " 'd\\xe1\\xba\\xa5u': <gensim.models.word2vec.Vocab at 0x7efbb56c8190>,\n",
       " 'non \\xc4\\x91o\\xc3\\xa0i': <gensim.models.word2vec.Vocab at 0x7efb971f4190>,\n",
       " 'hoa r\\xe1\\xbb\\xa5ng': <gensim.models.word2vec.Vocab at 0x7efb97225050>,\n",
       " 'ch\\xc3\\xbat ph\\xe1\\xba\\xadn': <gensim.models.word2vec.Vocab at 0x7efb9c0484d0>,\n",
       " 'ngh\\xe1\\xbb\\x89': <gensim.models.word2vec.Vocab at 0x7efb96620ed0>,\n",
       " 'ch\\xe1\\xbb\\xaba': <gensim.models.word2vec.Vocab at 0x7efb971dcc90>,\n",
       " 'ngh\\xe1\\xbb\\x81': <gensim.models.word2vec.Vocab at 0x7efb96620f50>,\n",
       " 'b\\xc3\\xa2ng khu\\xc3\\xa2ng': <gensim.models.word2vec.Vocab at 0x7efb96620f90>,\n",
       " 'tam h\\xe1\\xbb\\xa3p': <gensim.models.word2vec.Vocab at 0x7efb97220ad0>,\n",
       " 'ng\\xc6\\xb0\\xe1\\xbb\\x9di ta': <gensim.models.word2vec.Vocab at 0x7efb96620c50>,\n",
       " 'ng\\xe1\\xba\\xa1i ng\\xc3\\xb9ng': <gensim.models.word2vec.Vocab at 0x7efb972250d0>,\n",
       " '\\xc3\\xa1i \\xc3\\xa2n': <gensim.models.word2vec.Vocab at 0x7efb971d1fd0>,\n",
       " 'ch\\xc3\\xbat th\\xc3\\xa2n': <gensim.models.word2vec.Vocab at 0x7efb96620dd0>,\n",
       " '\\xc3\\xb4ng b\\xc3\\xa0': <gensim.models.word2vec.Vocab at 0x7efb971f41d0>,\n",
       " 'th\\xe1\\xba\\xbf l\\xc3\\xa0': <gensim.models.word2vec.Vocab at 0x7efb97225110>,\n",
       " 'hai ng\\xc6\\xb0\\xe1\\xbb\\x9di': <gensim.models.word2vec.Vocab at 0x7efb972155d0>,\n",
       " 's\\xe1\\xbb\\xb1 t\\xc3\\xacnh': <gensim.models.word2vec.Vocab at 0x7efb971f4210>,\n",
       " 'nghi\\xc3\\xaam': <gensim.models.word2vec.Vocab at 0x7efb96620e50>,\n",
       " 'g\\xe1\\xbb\\x91i': <gensim.models.word2vec.Vocab at 0x7efb971d7050>,\n",
       " 'g\\xe1\\xbb\\x91c': <gensim.models.word2vec.Vocab at 0x7efb971d7090>,\n",
       " 's\\xc3\\xa0ng': <gensim.models.word2vec.Vocab at 0x7efb971dc310>,\n",
       " '3': <gensim.models.word2vec.Vocab at 0x7efb971f4250>,\n",
       " 'giao': <gensim.models.word2vec.Vocab at 0x7efb971f4290>,\n",
       " 'gian': <gensim.models.word2vec.Vocab at 0x7efb971f42d0>,\n",
       " 'l\\xc3\\xb2ng n\\xc3\\xa0y': <gensim.models.word2vec.Vocab at 0x7efb971f4310>,\n",
       " 'tuy': <gensim.models.word2vec.Vocab at 0x7efb971ff290>,\n",
       " 'ngh\\xc4\\xa9 c\\xc3\\xa0ng': <gensim.models.word2vec.Vocab at 0x7efb971d70d0>,\n",
       " 'nguy\\xe1\\xbb\\x87n': <gensim.models.word2vec.Vocab at 0x7efb971d7110>,\n",
       " 'v\\xe1\\xba\\xafn': <gensim.models.word2vec.Vocab at 0x7efb971f4350>,\n",
       " 'b\\xe1\\xbb\\xa5i h\\xe1\\xbb\\x93ng': <gensim.models.word2vec.Vocab at 0x7efb971c68d0>,\n",
       " 'nguy\\xe1\\xbb\\x87t': <gensim.models.word2vec.Vocab at 0x7efb971d7150>,\n",
       " 't\\xc3\\xa1c': <gensim.models.word2vec.Vocab at 0x7efb97225150>,\n",
       " 'l\\xc3\\xb2ng n\\xc3\\xa0o': <gensim.models.word2vec.Vocab at 0x7efb971f4390>,\n",
       " 't\\xc3\\xa1i': <gensim.models.word2vec.Vocab at 0x7efb97225190>,\n",
       " 'mong': <gensim.models.word2vec.Vocab at 0x7efb971f43d0>,\n",
       " '\\xc4\\x91\\xe1\\xba\\xb9p': <gensim.models.word2vec.Vocab at 0x7efb971f4410>,\n",
       " 't\\xc6\\xa1': <gensim.models.word2vec.Vocab at 0x7efb966208d0>,\n",
       " 'vui': <gensim.models.word2vec.Vocab at 0x7efb971f4450>,\n",
       " 'huy\\xe1\\xbb\\x81n': <gensim.models.word2vec.Vocab at 0x7efb96620910>,\n",
       " 'mang': <gensim.models.word2vec.Vocab at 0x7efb96620950>,\n",
       " 'ti\\xe1\\xbb\\x81n \\xc4\\x91\\xc6\\xb0\\xe1\\xbb\\x9dng': <gensim.models.word2vec.Vocab at 0x7efb96620710>,\n",
       " 't\\xc6\\xb0': <gensim.models.word2vec.Vocab at 0x7efb96620810>,\n",
       " 'b\\xe1\\xba\\xbb hoa': <gensim.models.word2vec.Vocab at 0x7efb966512d0>,\n",
       " '60': <gensim.models.word2vec.Vocab at 0x7efb971d7210>,\n",
       " 'sai nha': <gensim.models.word2vec.Vocab at 0x7efb966206d0>,\n",
       " 'm\\xc3\\xa0nh': <gensim.models.word2vec.Vocab at 0x7efb96645290>,\n",
       " '65': <gensim.models.word2vec.Vocab at 0x7efb971d7250>,\n",
       " 'tr\\xe1\\xbb\\x91ng': <gensim.models.word2vec.Vocab at 0x7efb96647590>,\n",
       " 'm\\xc3\\xa0ng': <gensim.models.word2vec.Vocab at 0x7efb96645390>,\n",
       " 'ki\\xe1\\xba\\xbfp ng\\xc6\\xb0\\xe1\\xbb\\x9di': <gensim.models.word2vec.Vocab at 0x7efb96645210>,\n",
       " 'r\\xe1\\xba\\xb1ng': <gensim.models.word2vec.Vocab at 0x7efb971d7290>,\n",
       " 'qu\\xc3\\xbd': <gensim.models.word2vec.Vocab at 0x7efb97204d50>,\n",
       " 'hay kh\\xc3\\xb4ng': <gensim.models.word2vec.Vocab at 0x7efb971d72d0>,\n",
       " 'gi\\xe1\\xbb\\x9d': <gensim.models.word2vec.Vocab at 0x7efb971d7310>,\n",
       " 'gi\\xe1\\xbb\\x9f': <gensim.models.word2vec.Vocab at 0x7efb96604590>,\n",
       " 'quan san': <gensim.models.word2vec.Vocab at 0x7efb971d7350>,\n",
       " 'qu\\xc3\\xac': <gensim.models.word2vec.Vocab at 0x7efb972252d0>,\n",
       " 'kh\\xc3\\xa1c': <gensim.models.word2vec.Vocab at 0x7efb96645190>,\n",
       " 'ph\\xc3\\xa9p': <gensim.models.word2vec.Vocab at 0x7efb971d7390>,\n",
       " 'tr\\xc3\\xa1i': <gensim.models.word2vec.Vocab at 0x7efb96604a50>,\n",
       " 'th\\xc6\\xb0\\xe1\\xbb\\x9bc': <gensim.models.word2vec.Vocab at 0x7efb971f44d0>,\n",
       " 'h\\xc3\\xb4m nay': <gensim.models.word2vec.Vocab at 0x7efb97225350>,\n",
       " 'v\\xc6\\xb0\\xe1\\xbb\\x9dn hoa': <gensim.models.word2vec.Vocab at 0x7efb96645110>,\n",
       " 'ch\\xe1\\xbb\\xaf b\\xc3\\xa0i': <gensim.models.word2vec.Vocab at 0x7efb97225390>,\n",
       " 'd\\xe1\\xbb\\xabng': <gensim.models.word2vec.Vocab at 0x7efb966450d0>,\n",
       " 't\\xc3\\xa0i s\\xe1\\xba\\xafc': <gensim.models.word2vec.Vocab at 0x7efb972253d0>,\n",
       " 'c\\xe1\\xbb\\xa9 ph\\xc3\\xa9p': <gensim.models.word2vec.Vocab at 0x7efb966472d0>,\n",
       " 'kho\\xe1\\xba\\xa3ng': <gensim.models.word2vec.Vocab at 0x7efb96645050>,\n",
       " 't\\xc3\\xb3c': <gensim.models.word2vec.Vocab at 0x7efb971f4510>,\n",
       " 'h\\xe1\\xba\\xa1c': <gensim.models.word2vec.Vocab at 0x7efb97225450>,\n",
       " 'm\\xe1\\xbb\\x99t m\\xe1\\xbb\\xa5': <gensim.models.word2vec.Vocab at 0x7efb971f4550>,\n",
       " 'h\\xe1\\xba\\xa1i': <gensim.models.word2vec.Vocab at 0x7efb97225490>,\n",
       " 'c\\xe1\\xbb\\xa9': <gensim.models.word2vec.Vocab at 0x7efb971d73d0>,\n",
       " 'then': <gensim.models.word2vec.Vocab at 0x7efb96652dd0>,\n",
       " 'ch\\xe1\\xbb\\xada': <gensim.models.word2vec.Vocab at 0x7efb971d7410>,\n",
       " 'n\\xc3\\xa0o ph\\xe1\\xba\\xa3i': <gensim.models.word2vec.Vocab at 0x7efb96645150>,\n",
       " 'm\\xe1\\xbb\\x99t phen': <gensim.models.word2vec.Vocab at 0x7efb972255d0>,\n",
       " 'y': <gensim.models.word2vec.Vocab at 0x7efb971d7450>,\n",
       " 'c\\xe1\\xbb\\x8f': <gensim.models.word2vec.Vocab at 0x7efb971d7490>,\n",
       " '\\xc4\\x91\\xe1\\xba\\xa5ng': <gensim.models.word2vec.Vocab at 0x7efb971e7690>,\n",
       " 'li\\xe1\\xbb\\x87u': <gensim.models.word2vec.Vocab at 0x7efb971d74d0>,\n",
       " 'cho xong': <gensim.models.word2vec.Vocab at 0x7efb971d7510>,\n",
       " 'gi\\xe1\\xbb\\xafa': <gensim.models.word2vec.Vocab at 0x7efb9722bcd0>,\n",
       " 'l\\xe1\\xbb\\x9di \\xc4\\x91\\xc3\\xa3': <gensim.models.word2vec.Vocab at 0x7efb971d7550>,\n",
       " ...}"
      ]
     },
     "execution_count": 226,
     "metadata": {},
     "output_type": "execute_result"
    }
   ],
   "source": [
    "model.wv.vocab"
   ]
  },
  {
   "cell_type": "code",
   "execution_count": 233,
   "metadata": {
    "collapsed": false,
    "nbpresent": {
     "id": "4fb00285-e777-4812-a3d4-ccdd066c8cf2"
    }
   },
   "outputs": [
    {
     "data": {
      "text/plain": [
       "[('nghe l\\xe1\\xbb\\x9di', 0.9986133575439453),\n",
       " ('th\\xc3\\xa2m', 0.9985884428024292),\n",
       " ('tr\\xc3\\xb4ng', 0.998569130897522),\n",
       " ('n\\xe1\\xbb\\xafa', 0.9985570907592773),\n",
       " ('l\\xe1\\xba\\xbd', 0.9985322952270508),\n",
       " ('b\\xe1\\xba\\xaft', 0.9985289573669434),\n",
       " ('v\\xc3\\xac', 0.9985174536705017),\n",
       " ('v\\xe1\\xba\\xbb', 0.9985098838806152),\n",
       " ('ng\\xe1\\xbb\\x8dn', 0.998508095741272),\n",
       " ('s\\xe1\\xba\\xafc', 0.9985053539276123)]"
      ]
     },
     "execution_count": 233,
     "metadata": {},
     "output_type": "execute_result"
    }
   ],
   "source": [
    "model.wv.similar_by_word(\"thúy kiều\")"
   ]
  },
  {
   "cell_type": "code",
   "execution_count": 243,
   "metadata": {
    "collapsed": false,
    "nbpresent": {
     "id": "9cddf689-6d2b-4709-9b6e-1c1f60c6a973"
    }
   },
   "outputs": [],
   "source": [
    "print \"\"\"\n",
    "[('th\\xc3\\xa2m', 0.9992734789848328),\n",
    " ('b\\xe1\\xbb\\xa5i', 0.9992575645446777),\n",
    " ('l\\xe1\\xba\\xbd', 0.9992456436157227),\n",
    " ('b\\xe1\\xba\\xaft', 0.9992380142211914),\n",
    " ('v\\xc3\\xad', 0.9992336630821228),\n",
    " ('v\\xe1\\xba\\xbb', 0.9992306232452393),\n",
    " ('s\\xe1\\xba\\xafc', 0.999223530292511),\n",
    " ('dao', 0.9992178678512573),\n",
    " ('phen', 0.9992178082466125),\n",
    " ('h\\xc6\\xa1n', 0.999215841293335)]\n",
    "\"\"\""
   ]
  },
  {
   "cell_type": "code",
   "execution_count": null,
   "metadata": {
    "collapsed": true,
    "nbpresent": {
     "id": "2d5cf0ac-8703-4a0a-ad1e-bfd3369bb4c9"
    }
   },
   "outputs": [],
   "source": []
  },
  {
   "cell_type": "markdown",
   "metadata": {
    "nbpresent": {
     "id": "27e7b979-4aaf-4d62-99e7-9a4b8ec2bf23"
    }
   },
   "source": [
    "# PCA và plot 2d"
   ]
  },
  {
   "cell_type": "code",
   "execution_count": 228,
   "metadata": {
    "collapsed": false,
    "nbpresent": {
     "id": "96c693d9-8930-4708-902e-7215205f1310"
    }
   },
   "outputs": [],
   "source": [
    "from sklearn.decomposition import PCA\n",
    "import matplotlib.pyplot as plt\n",
    "\n",
    "words_np = []\n",
    "words_label = []\n",
    "for word in model.wv.vocab.keys():\n",
    "    words_np.append(model.wv[word])\n",
    "    words_label.append(word)\n",
    "\n",
    "pca = PCA(n_components=2)\n",
    "pca.fit(words_np)\n",
    "reduced = pca.transform(words_np)"
   ]
  },
  {
   "cell_type": "code",
   "execution_count": 229,
   "metadata": {
    "collapsed": false,
    "nbpresent": {
     "id": "fcfad077-8cce-4ce8-b9a1-797c891f16ba"
    }
   },
   "outputs": [
    {
     "data": {
      "image/png": "[encoded data removed]",
      "text/plain": [
       "<matplotlib.figure.Figure at 0x7efbb4fcda50>"
      ]
     },
     "metadata": {},
     "output_type": "display_data"
    }
   ],
   "source": [
    "%matplotlib inline\n",
    "plt.rcParams[\"figure.figsize\"] = (20,30)\n",
    "for index,vec in enumerate(reduced):\n",
    "    if index <100:\n",
    "        x,y=vec[0],vec[1]\n",
    "        plt.scatter(x,y)\n",
    "        plt.annotate(words_label[index],xy=(x,y))\n",
    "plt.show()"
   ]
  },
  {
   "cell_type": "markdown",
   "metadata": {
    "nbpresent": {
     "id": "170f190f-6340-4644-a266-d74637592637"
    }
   },
   "source": [
    "# Save model"
   ]
  },
  {
   "cell_type": "code",
   "execution_count": 244,
   "metadata": {
    "collapsed": true,
    "nbpresent": {
     "id": "037b8b99-9e10-4b68-be19-01d6719c86d6"
    }
   },
   "outputs": [],
   "source": [
    "model.wv.save(\"kieu_word2vec.model\")"
   ]
  },
  {
   "cell_type": "code",
   "execution_count": null,
   "metadata": {
    "collapsed": true,
    "nbpresent": {
     "id": "ae408a85-debd-4ea0-b641-417ed6c5a208"
    }
   },
   "outputs": [],
   "source": []
  }
 ],
 "metadata": {
  "kernelspec": {
   "display_name": "Python [Root]",
   "language": "python",
   "name": "Python [Root]"
  },
  "language_info": {
   "codemirror_mode": {
    "name": "ipython",
    "version": 2
   },
   "file_extension": ".py",
   "mimetype": "text/x-python",
   "name": "python",
   "nbconvert_exporter": "python",
   "pygments_lexer": "ipython2",
   "version": "2.7.12"
  },
  "nbpresent": {
   "slides": {
    "00a748af-b9af-4706-a5b4-925b7180876d": {
     "id": "00a748af-b9af-4706-a5b4-925b7180876d",
     "prev": "4162ec09-0695-4c1f-86c5-29f2d64b21ae",
     "regions": {
      "ea5c5606-f36e-4e01-9b15-a5660e79aa34": {
       "attrs": {
        "height": 0.8,
        "width": 0.8,
        "x": 0.1,
        "y": 0.1
       },
       "content": {
        "cell": "0603bbbf-5f14-4f98-8997-9cefb152a2ec",
        "part": "whole"
       },
       "id": "ea5c5606-f36e-4e01-9b15-a5660e79aa34"
      }
     }
    },
    "09ccfe77-c92e-4c21-817f-c9fb846df6f0": {
     "id": "09ccfe77-c92e-4c21-817f-c9fb846df6f0",
     "prev": "bb17dfc9-2c61-449c-81a9-fe0ac68443f5",
     "regions": {
      "e8999311-faff-40c3-a71d-ea227e020152": {
       "attrs": {
        "height": 0.8,
        "width": 0.8,
        "x": 0.1,
        "y": 0.1
       },
       "content": {
        "cell": "2d5cf0ac-8703-4a0a-ad1e-bfd3369bb4c9",
        "part": "whole"
       },
       "id": "e8999311-faff-40c3-a71d-ea227e020152"
      }
     }
    },
    "0aa874bf-d937-48e2-9c37-a2414d8bc122": {
     "id": "0aa874bf-d937-48e2-9c37-a2414d8bc122",
     "prev": "e7e1dccf-7b61-4406-b8e7-190202a8045f",
     "regions": {
      "737859e7-4dbf-4c5e-8eac-24def82848ba": {
       "attrs": {
        "height": 0.8,
        "width": 0.8,
        "x": 0.1,
        "y": 0.1
       },
       "content": {
        "cell": "4fb00285-e777-4812-a3d4-ccdd066c8cf2",
        "part": "whole"
       },
       "id": "737859e7-4dbf-4c5e-8eac-24def82848ba"
      }
     }
    },
    "0d877506-4c62-4330-b4ab-6fe9fac5ce77": {
     "id": "0d877506-4c62-4330-b4ab-6fe9fac5ce77",
     "prev": null,
     "regions": {
      "9b16761f-1165-4962-814c-8a7390f9a589": {
       "attrs": {
        "height": 0.8,
        "width": 0.8,
        "x": 0.1,
        "y": 0.1
       },
       "content": {
        "cell": "fa3a37ce-afd3-4fe7-b033-02e64eadc045",
        "part": "whole"
       },
       "id": "9b16761f-1165-4962-814c-8a7390f9a589"
      }
     }
    },
    "16088f73-6edf-4998-90a6-c91549fed696": {
     "id": "16088f73-6edf-4998-90a6-c91549fed696",
     "prev": "6f118583-8d08-4d8d-a9a3-219a32693b18",
     "regions": {
      "e522aca9-a618-4530-8254-b4a2f165b9e4": {
       "attrs": {
        "height": 0.8,
        "width": 0.8,
        "x": 0.1,
        "y": 0.1
       },
       "content": {
        "cell": "15b269a1-9d30-4dd0-ae18-cfd894d95d79",
        "part": "whole"
       },
       "id": "e522aca9-a618-4530-8254-b4a2f165b9e4"
      }
     }
    },
    "4162ec09-0695-4c1f-86c5-29f2d64b21ae": {
     "id": "4162ec09-0695-4c1f-86c5-29f2d64b21ae",
     "prev": "0d877506-4c62-4330-b4ab-6fe9fac5ce77",
     "regions": {
      "42d50586-54a2-4bd0-be7e-99aa92932c38": {
       "attrs": {
        "height": 0.8,
        "width": 0.8,
        "x": 0.1,
        "y": 0.1
       },
       "content": {
        "cell": "2465b926-4005-44eb-8193-6bccc1b85e69",
        "part": "whole"
       },
       "id": "42d50586-54a2-4bd0-be7e-99aa92932c38"
      }
     }
    },
    "4b14cfe2-9173-476c-ad28-cf8120e0a603": {
     "id": "4b14cfe2-9173-476c-ad28-cf8120e0a603",
     "prev": "95a79ccf-4e8a-4f87-9b0b-7dcc52af9a5a",
     "regions": {
      "55a23ec6-4fab-4425-a908-ce8746e9d53a": {
       "attrs": {
        "height": 0.8,
        "width": 0.8,
        "x": 0.1,
        "y": 0.1
       },
       "content": {
        "cell": "170f190f-6340-4644-a266-d74637592637",
        "part": "whole"
       },
       "id": "55a23ec6-4fab-4425-a908-ce8746e9d53a"
      }
     }
    },
    "66da0d25-464b-44b3-9fcf-97743c591dc9": {
     "id": "66da0d25-464b-44b3-9fcf-97743c591dc9",
     "prev": "e7c8488f-31fb-484f-b9fd-a02e18a52a7d",
     "regions": {
      "cd095b87-3ad1-4c74-97d5-7702b479cd58": {
       "attrs": {
        "height": 0.8,
        "width": 0.8,
        "x": 0.1,
        "y": 0.1
       },
       "content": {
        "cell": "96c693d9-8930-4708-902e-7215205f1310",
        "part": "whole"
       },
       "id": "cd095b87-3ad1-4c74-97d5-7702b479cd58"
      }
     }
    },
    "6f118583-8d08-4d8d-a9a3-219a32693b18": {
     "id": "6f118583-8d08-4d8d-a9a3-219a32693b18",
     "prev": "8336a779-fe58-42ac-8fad-21455c074252",
     "regions": {
      "1c6bd725-30d8-4025-aa21-e0a7f42a897c": {
       "attrs": {
        "height": 0.8,
        "width": 0.8,
        "x": 0.1,
        "y": 0.1
       },
       "content": {
        "cell": "fc195969-8c49-4f07-9dea-85a4f917c7a1",
        "part": "whole"
       },
       "id": "1c6bd725-30d8-4025-aa21-e0a7f42a897c"
      }
     }
    },
    "8336a779-fe58-42ac-8fad-21455c074252": {
     "id": "8336a779-fe58-42ac-8fad-21455c074252",
     "prev": "b24a2cf2-82a9-4e56-b80e-589242f16f73",
     "regions": {
      "d4b0a8d0-1229-41bd-bd15-ed029659820c": {
       "attrs": {
        "height": 0.8,
        "width": 0.8,
        "x": 0.1,
        "y": 0.1
       },
       "content": {
        "cell": "07763ea6-a646-4603-bca7-55ed468a312a",
        "part": "whole"
       },
       "id": "d4b0a8d0-1229-41bd-bd15-ed029659820c"
      }
     }
    },
    "9432596b-9a6e-4bae-bd69-d0e0cc4df6c0": {
     "id": "9432596b-9a6e-4bae-bd69-d0e0cc4df6c0",
     "prev": "f634168a-1b7a-4b88-ad60-692e07e254e1",
     "regions": {
      "ecf218a6-d6f4-46ef-b735-b2111636d7d7": {
       "attrs": {
        "height": 0.8,
        "width": 0.8,
        "x": 0.1,
        "y": 0.1
       },
       "content": {
        "cell": "ae408a85-debd-4ea0-b641-417ed6c5a208",
        "part": "whole"
       },
       "id": "ecf218a6-d6f4-46ef-b735-b2111636d7d7"
      }
     }
    },
    "95a79ccf-4e8a-4f87-9b0b-7dcc52af9a5a": {
     "id": "95a79ccf-4e8a-4f87-9b0b-7dcc52af9a5a",
     "prev": "66da0d25-464b-44b3-9fcf-97743c591dc9",
     "regions": {
      "3617aa9b-d2f9-484e-8d0d-c3d523f376bc": {
       "attrs": {
        "height": 0.8,
        "width": 0.8,
        "x": 0.1,
        "y": 0.1
       },
       "content": {
        "cell": "fcfad077-8cce-4ce8-b9a1-797c891f16ba",
        "part": "whole"
       },
       "id": "3617aa9b-d2f9-484e-8d0d-c3d523f376bc"
      }
     }
    },
    "ae093f9f-3326-49a8-b255-a7bc72eda7f5": {
     "id": "ae093f9f-3326-49a8-b255-a7bc72eda7f5",
     "prev": "d6d5ce6f-4502-40ab-89f2-16cf01d99645",
     "regions": {
      "304855f4-05c1-4d89-874a-6a554a9f4a74": {
       "attrs": {
        "height": 0.8,
        "width": 0.8,
        "x": 0.1,
        "y": 0.1
       },
       "content": {
        "cell": "e63eee8d-b089-4429-a9f0-659dc3707bce",
        "part": "whole"
       },
       "id": "304855f4-05c1-4d89-874a-6a554a9f4a74"
      }
     }
    },
    "b24a2cf2-82a9-4e56-b80e-589242f16f73": {
     "id": "b24a2cf2-82a9-4e56-b80e-589242f16f73",
     "prev": "ae093f9f-3326-49a8-b255-a7bc72eda7f5",
     "regions": {
      "b4b02a41-663d-4a9d-bb42-8573668e8325": {
       "attrs": {
        "height": 0.8,
        "width": 0.8,
        "x": 0.1,
        "y": 0.1
       },
       "content": {
        "cell": "7de9764d-0e93-4a16-85a1-46789cf95fd6",
        "part": "whole"
       },
       "id": "b4b02a41-663d-4a9d-bb42-8573668e8325"
      }
     }
    },
    "bb17dfc9-2c61-449c-81a9-fe0ac68443f5": {
     "id": "bb17dfc9-2c61-449c-81a9-fe0ac68443f5",
     "prev": "0aa874bf-d937-48e2-9c37-a2414d8bc122",
     "regions": {
      "6f7f5db5-26c6-4773-9cbf-97bd91e5860a": {
       "attrs": {
        "height": 0.8,
        "width": 0.8,
        "x": 0.1,
        "y": 0.1
       },
       "content": {
        "cell": "9cddf689-6d2b-4709-9b6e-1c1f60c6a973",
        "part": "whole"
       },
       "id": "6f7f5db5-26c6-4773-9cbf-97bd91e5860a"
      }
     }
    },
    "d6d5ce6f-4502-40ab-89f2-16cf01d99645": {
     "id": "d6d5ce6f-4502-40ab-89f2-16cf01d99645",
     "prev": "00a748af-b9af-4706-a5b4-925b7180876d",
     "regions": {
      "d414577f-7e2c-4aef-8d1f-9109c1ccbdd6": {
       "attrs": {
        "height": 0.8,
        "width": 0.8,
        "x": 0.1,
        "y": 0.1
       },
       "content": {
        "cell": "b26adf4a-5fa3-4724-817e-cba2af3b6665",
        "part": "whole"
       },
       "id": "d414577f-7e2c-4aef-8d1f-9109c1ccbdd6"
      }
     }
    },
    "e7c8488f-31fb-484f-b9fd-a02e18a52a7d": {
     "id": "e7c8488f-31fb-484f-b9fd-a02e18a52a7d",
     "prev": "09ccfe77-c92e-4c21-817f-c9fb846df6f0",
     "regions": {
      "b31d8828-c996-42e2-9898-1e834af3fc28": {
       "attrs": {
        "height": 0.8,
        "width": 0.8,
        "x": 0.1,
        "y": 0.1
       },
       "content": {
        "cell": "27e7b979-4aaf-4d62-99e7-9a4b8ec2bf23",
        "part": "whole"
       },
       "id": "b31d8828-c996-42e2-9898-1e834af3fc28"
      }
     }
    },
    "e7e1dccf-7b61-4406-b8e7-190202a8045f": {
     "id": "e7e1dccf-7b61-4406-b8e7-190202a8045f",
     "prev": "16088f73-6edf-4998-90a6-c91549fed696",
     "regions": {
      "0c6771d1-a4c5-413f-bedb-d4ef9a349159": {
       "attrs": {
        "height": 0.8,
        "width": 0.8,
        "x": 0.1,
        "y": 0.1
       },
       "content": {
        "cell": "098c5c62-5404-4491-9ea9-068c46a44862",
        "part": "whole"
       },
       "id": "0c6771d1-a4c5-413f-bedb-d4ef9a349159"
      }
     }
    },
    "f634168a-1b7a-4b88-ad60-692e07e254e1": {
     "id": "f634168a-1b7a-4b88-ad60-692e07e254e1",
     "prev": "4b14cfe2-9173-476c-ad28-cf8120e0a603",
     "regions": {
      "f306d0b4-54c1-47a0-9412-de18d02c9ceb": {
       "attrs": {
        "height": 0.8,
        "width": 0.8,
        "x": 0.1,
        "y": 0.1
       },
       "content": {
        "cell": "037b8b99-9e10-4b68-be19-01d6719c86d6",
        "part": "whole"
       },
       "id": "f306d0b4-54c1-47a0-9412-de18d02c9ceb"
      }
     }
    }
   },
   "themes": {
    "default": "49b013ae-66b8-4abe-b173-213cc23e6202",
    "theme": {
     "49b013ae-66b8-4abe-b173-213cc23e6202": {
      "id": "49b013ae-66b8-4abe-b173-213cc23e6202",
      "palette": {
       "19cc588f-0593-49c9-9f4b-e4d7cc113b1c": {
        "id": "19cc588f-0593-49c9-9f4b-e4d7cc113b1c",
        "rgb": [
         252,
         252,
         252
        ]
       },
       "31af15d2-7e15-44c5-ab5e-e04b16a89eff": {
        "id": "31af15d2-7e15-44c5-ab5e-e04b16a89eff",
        "rgb": [
         68,
         68,
         68
        ]
       },
       "50f92c45-a630-455b-aec3-788680ec7410": {
        "id": "50f92c45-a630-455b-aec3-788680ec7410",
        "rgb": [
         155,
         177,
         192
        ]
       },
       "c5cc3653-2ee1-402a-aba2-7caae1da4f6c": {
        "id": "c5cc3653-2ee1-402a-aba2-7caae1da4f6c",
        "rgb": [
         43,
         126,
         184
        ]
       },
       "efa7f048-9acb-414c-8b04-a26811511a21": {
        "id": "efa7f048-9acb-414c-8b04-a26811511a21",
        "rgb": [
         25.118061674008803,
         73.60176211453744,
         107.4819383259912
        ]
       }
      },
      "rules": {
       "blockquote": {
        "color": "50f92c45-a630-455b-aec3-788680ec7410"
       },
       "code": {
        "font-family": "Anonymous Pro"
       },
       "h1": {
        "color": "c5cc3653-2ee1-402a-aba2-7caae1da4f6c",
        "font-family": "Lato",
        "font-size": 8
       },
       "h2": {
        "color": "c5cc3653-2ee1-402a-aba2-7caae1da4f6c",
        "font-family": "Lato",
        "font-size": 6
       },
       "h3": {
        "color": "50f92c45-a630-455b-aec3-788680ec7410",
        "font-family": "Lato",
        "font-size": 5.5
       },
       "h4": {
        "color": "c5cc3653-2ee1-402a-aba2-7caae1da4f6c",
        "font-family": "Lato",
        "font-size": 5
       },
       "h5": {
        "font-family": "Lato"
       },
       "h6": {
        "font-family": "Lato"
       },
       "h7": {
        "font-family": "Lato"
       },
       "pre": {
        "font-family": "Anonymous Pro",
        "font-size": 4
       }
      },
      "text-base": {
       "font-family": "Merriweather",
       "font-size": 4
      }
     }
    }
   }
  }
 },
 "nbformat": 4,
 "nbformat_minor": 0
}
